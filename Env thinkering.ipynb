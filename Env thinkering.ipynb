{
 "cells": [
  {
   "cell_type": "code",
   "execution_count": 13,
   "metadata": {},
   "outputs": [],
   "source": [
    "from rl.environments.simple_conveyor_2_intobs import simple_conveyor_2\n",
    "\n",
    "import gym\n",
    "\n",
    "from stable_baselines.common.policies import MlpPolicy\n",
    "from stable_baselines.common.vec_env import DummyVecEnv\n",
    "from stable_baselines import PPO2\n",
    "\n",
    "import yaml"
   ]
  },
  {
   "cell_type": "markdown",
   "metadata": {},
   "source": [
    "# for the custom env"
   ]
  },
  {
   "cell_type": "code",
   "execution_count": 14,
   "metadata": {},
   "outputs": [
    {
     "name": "stderr",
     "output_type": "stream",
     "text": [
      "c:\\git\\venv\\lib\\site-packages\\ipykernel_launcher.py:3: YAMLLoadWarning: calling yaml.load() without Loader=... is deprecated, as the default Loader is unsafe. Please read https://msg.pyyaml.org/load for full details.\n",
      "  This is separate from the ipykernel package so we can avoid doing imports until\n",
      "INFO:root:queues that are initialized: [[2, 1, 1, 2, 1, 3, 3, 3, 3, 1], [3, 3, 2, 2, 3, 3, 1, 2, 1, 2], [2, 3, 2, 1, 2, 1, 3, 2, 2, 2]]\n"
     ]
    }
   ],
   "source": [
    "config_path = 'rl/config/simple_conveyor_2.yml'\n",
    "with open(config_path, 'r') as f:\n",
    "    config = yaml.load(f)\n",
    "env = simple_conveyor_2(config)"
   ]
  },
  {
   "cell_type": "code",
   "execution_count": 15,
   "metadata": {},
   "outputs": [
    {
     "data": {
      "text/plain": [
       "[[2, 1, 1, 2, 1, 3, 3, 3, 3, 1],\n",
       " [3, 3, 2, 2, 3, 3, 1, 2, 1, 2],\n",
       " [2, 3, 2, 1, 2, 1, 3, 2, 2, 2]]"
      ]
     },
     "execution_count": 15,
     "metadata": {},
     "output_type": "execute_result"
    }
   ],
   "source": [
    "env.queues"
   ]
  },
  {
   "cell_type": "code",
   "execution_count": 16,
   "metadata": {},
   "outputs": [
    {
     "name": "stdout",
     "output_type": "stream",
     "text": [
      "Ep:     1, steps:   0, R: 0.000\r"
     ]
    },
    {
     "data": {
      "text/plain": [
       "array([0., 0., 0., 0., 0., 0., 0., 0., 0., 0., 0., 0., 0., 0., 0., 0., 0.,\n",
       "       0., 0., 0., 0., 0., 0., 0., 0., 0., 0., 0., 0., 0., 2., 1., 1., 2.,\n",
       "       1., 3., 3., 3., 3., 1., 3., 3., 2., 2., 3., 3., 1., 2., 1., 2., 2.,\n",
       "       3., 2., 1., 2., 1., 3., 2., 2., 2., 0., 0., 0., 0., 0., 0., 0., 0.,\n",
       "       0., 0., 0., 0., 0., 0., 0., 0., 0., 0., 0., 0., 0., 0., 0., 0., 0.,\n",
       "       0., 0., 0., 0., 0., 0., 0., 0., 0., 0., 0., 0., 0., 0., 0., 0., 0.,\n",
       "       0., 0., 0., 0., 0., 0., 0., 0., 0., 0., 0., 0., 0., 0., 0., 0., 0.,\n",
       "       0., 0., 0., 0., 0., 0., 0., 0., 0., 0., 0., 0., 0., 0., 0., 0., 0.,\n",
       "       0., 0., 0., 0., 0., 0., 0., 0., 0., 0., 0., 0., 0., 0., 0., 0., 0.,\n",
       "       0., 0., 0., 0., 0., 0., 0., 0., 0., 0., 0., 0., 0., 0., 0., 0., 0.,\n",
       "       0., 0., 0., 0., 0., 0.])"
      ]
     },
     "execution_count": 16,
     "metadata": {},
     "output_type": "execute_result"
    }
   ],
   "source": [
    "env.reset()"
   ]
  },
  {
   "cell_type": "code",
   "execution_count": 17,
   "metadata": {},
   "outputs": [
    {
     "data": {
      "text/plain": [
       "176"
      ]
     },
     "execution_count": 17,
     "metadata": {},
     "output_type": "execute_result"
    }
   ],
   "source": [
    "len(env.make_observation())\n"
   ]
  },
  {
   "cell_type": "code",
   "execution_count": 21,
   "metadata": {},
   "outputs": [
    {
     "name": "stdout",
     "output_type": "stream",
     "text": [
      "queue is empty - punished\n",
      "queue is empty - punished\n",
      "queue is empty - punished\n",
      "punishment is: -3\n"
     ]
    }
   ],
   "source": [
    "reward = 0\n",
    "for item in env.in_queue:\n",
    "    if len(item) == 0:\n",
    "        print('queue is empty - punished')\n",
    "        reward += -1\n",
    "    else:\n",
    "        print('all okay')\n",
    "print('punishment is: {}'.format(reward))"
   ]
  },
  {
   "cell_type": "code",
   "execution_count": 9,
   "metadata": {},
   "outputs": [
    {
     "data": {
      "text/plain": [
       "Box(176,)"
      ]
     },
     "execution_count": 9,
     "metadata": {},
     "output_type": "execute_result"
    }
   ],
   "source": [
    "env.observation_space"
   ]
  },
  {
   "cell_type": "code",
   "execution_count": 6,
   "metadata": {},
   "outputs": [
    {
     "data": {
      "image/png": "[encoded data removed]",
      "text/plain": [
       "<Figure size 432x288 with 1 Axes>"
      ]
     },
     "metadata": {
      "needs_background": "light"
     },
     "output_type": "display_data"
    }
   ],
   "source": [
    "import random\n",
    "[env.step(random.randint(0,3))for i in range(50)]\n",
    "env.render_plt()"
   ]
  },
  {
   "cell_type": "code",
   "execution_count": 10,
   "metadata": {},
   "outputs": [
    {
     "data": {
      "image/png": "[encoded data removed]",
      "text/plain": [
       "<Figure size 432x288 with 1 Axes>"
      ]
     },
     "metadata": {
      "needs_background": "light"
     },
     "output_type": "display_data"
    }
   ],
   "source": [
    "env.step(0)\n",
    "env.render_plt()"
   ]
  },
  {
   "cell_type": "code",
   "execution_count": 11,
   "metadata": {},
   "outputs": [
    {
     "data": {
      "text/plain": [
       "[[[23, 2], 3, 0.2500000000000001],\n",
       " [[22, 2], 3, 0.24500000000000013],\n",
       " [[24, 2], 1, 0.23500000000000013],\n",
       " [[21, 2], 1, 0.2200000000000001],\n",
       " [[20, 2], 1, 0.2150000000000001],\n",
       " [[16, 2], 3, 0.2150000000000001],\n",
       " [[19, 2], 1, 0.2100000000000001],\n",
       " [[18, 2], 1, 0.2050000000000001],\n",
       " [[8, 14], 2, 0.1950000000000001],\n",
       " [[15, 2], 1, 0.19000000000000009],\n",
       " [[13, 2], 1, 0.18000000000000008],\n",
       " [[12, 2], 1, 0.17500000000000007],\n",
       " [[12, 14], 3, 0.17500000000000007],\n",
       " [[11, 2], 1, 0.17000000000000007],\n",
       " [[4, 14], 2, 0.16000000000000006],\n",
       " [[6, 2], 2, 0.15500000000000005],\n",
       " [[4, 13], 2, 0.14500000000000005],\n",
       " [[5, 2], 1, 0.14000000000000004],\n",
       " [[3, 2], 1, 0.13000000000000003],\n",
       " [[4, 12], 1, 0.12000000000000004],\n",
       " [[1, 5], 1, 0.10500000000000002],\n",
       " [[1, 7], 1, 0.09500000000000001],\n",
       " [[8, 8], 3, 0.085],\n",
       " [[12, 13], 2, 0.08],\n",
       " [[9, 7], 3, 0.075],\n",
       " [[8, 7], 2, 0.06999999999999999],\n",
       " [[10, 7], 1, 0.049999999999999996],\n",
       " [[11, 7], 1, 0.045],\n",
       " [[15, 7], 3, 0.045],\n",
       " [[12, 7], 1, 0.04],\n",
       " [[13, 7], 1, 0.035],\n",
       " [[14, 7], 1, 0.030000000000000002],\n",
       " [[16, 7], 2, 0.030000000000000002],\n",
       " [[20, 7], 3, 0.02],\n",
       " [[21, 7], 3, 0.015],\n",
       " [[19, 7], 1, 0.005],\n",
       " [[22, 7], 2, 0]]"
      ]
     },
     "execution_count": 11,
     "metadata": {},
     "output_type": "execute_result"
    }
   ],
   "source": [
    "env.items_on_conv"
   ]
  },
  {
   "cell_type": "code",
   "execution_count": 12,
   "metadata": {},
   "outputs": [
    {
     "data": {
      "text/plain": [
       "[[3, 2, 2, 2, 2, 3, 3, 1, 3],\n",
       " [3, 2, 1, 1, 3, 2, 3, 3, 2],\n",
       " [2, 1, 3, 3, 3, 2, 1, 2, 3]]"
      ]
     },
     "execution_count": 12,
     "metadata": {},
     "output_type": "execute_result"
    }
   ],
   "source": [
    "env.demand_queues"
   ]
  },
  {
   "cell_type": "code",
   "execution_count": 11,
   "metadata": {},
   "outputs": [
    {
     "name": "stdout",
     "output_type": "stream",
     "text": [
      "no item at location\n"
     ]
    }
   ],
   "source": [
    "if len([item for item in env.items_on_conv if item[0] ==[1,7]]) == 1:\n",
    "    print('item at location!')\n",
    "else:\n",
    "    print('no item at location')"
   ]
  },
  {
   "cell_type": "code",
   "execution_count": 13,
   "metadata": {},
   "outputs": [
    {
     "data": {
      "text/plain": [
       "27"
      ]
     },
     "execution_count": 13,
     "metadata": {},
     "output_type": "execute_result"
    }
   ],
   "source": [
    "len([item for sublist in env.demand_queues for item in sublist])"
   ]
  },
  {
   "cell_type": "code",
   "execution_count": 12,
   "metadata": {},
   "outputs": [
    {
     "data": {
      "text/plain": [
       "[[[18, 2], 3, 0.24500000000000013],\n",
       " [[21, 2], 1, 0.24000000000000013],\n",
       " [[13, 2], 3, 0.2200000000000001],\n",
       " [[12, 2], 3, 0.2150000000000001],\n",
       " [[8, 2], 1, 0.17500000000000007],\n",
       " [[7, 2], 1, 0.17000000000000007],\n",
       " [[6, 2], 1, 0.16500000000000006],\n",
       " [[5, 2], 1, 0.16000000000000006],\n",
       " [[1, 6], 3, 0.14000000000000004]]"
      ]
     },
     "execution_count": 12,
     "metadata": {},
     "output_type": "execute_result"
    }
   ],
   "source": [
    "[item for item in env.items_on_conv if item[0][1] < 7]"
   ]
  },
  {
   "cell_type": "code",
   "execution_count": 13,
   "metadata": {},
   "outputs": [
    {
     "data": {
      "text/plain": [
       "358"
      ]
     },
     "execution_count": 13,
     "metadata": {},
     "output_type": "execute_result"
    }
   ],
   "source": [
    "shape = 2*((2*((env.amount_of_gtps*4) + 13)) + ((env.amount_of_gtps *4) + 13) + ((2*4 + 4))) + (10 * env.amount_of_gtps * 2 * 2)\n",
    "shape"
   ]
  },
  {
   "cell_type": "code",
   "execution_count": 19,
   "metadata": {},
   "outputs": [
    {
     "data": {
      "text/plain": [
       "[('This is line 0', 'iets'),\n",
       " ('This is line 1', 'iets'),\n",
       " ('This is line 2', 'iets'),\n",
       " ('This is line 3', 'iets'),\n",
       " ('This is line 4', 'iets'),\n",
       " ('This is line 5', 'iets'),\n",
       " ('This is line 6', 'iets'),\n",
       " ('This is line 7', 'iets'),\n",
       " ('This is line 8', 'iets'),\n",
       " ('This is line 9', 'iets')]"
      ]
     },
     "execution_count": 19,
     "metadata": {},
     "output_type": "execute_result"
    }
   ],
   "source": [
    "log = []\n",
    "\n",
    "for item in range(10):\n",
    "    log_item = 'This is line {}'.format(item)\n",
    "    iets = 'iets'\n",
    "    log.append(('This is line {}'.format(item), iets))\n",
    "\n",
    "log"
   ]
  },
  {
   "cell_type": "code",
   "execution_count": null,
   "metadata": {},
   "outputs": [],
   "source": [
    "os.path.join()"
   ]
  },
  {
   "cell_type": "code",
   "execution_count": 16,
   "metadata": {},
   "outputs": [],
   "source": [
    "with open('test_log.txt', 'w') as f:\n",
    "    for item in log:\n",
    "        f.write(\"%s\\n\" % item)"
   ]
  },
  {
   "cell_type": "code",
   "execution_count": 14,
   "metadata": {
    "scrolled": false
   },
   "outputs": [
    {
     "data": {
      "text/plain": [
       "58"
      ]
     },
     "execution_count": 14,
     "metadata": {},
     "output_type": "execute_result"
    }
   ],
   "source": [
    "2*((env.amount_of_gtps*4) + 13)"
   ]
  },
  {
   "cell_type": "code",
   "execution_count": 38,
   "metadata": {},
   "outputs": [
    {
     "data": {
      "text/plain": [
       "25"
      ]
     },
     "execution_count": 38,
     "metadata": {},
     "output_type": "execute_result"
    }
   ],
   "source": [
    "(env.amount_of_gtps *4) + 13"
   ]
  },
  {
   "cell_type": "code",
   "execution_count": 39,
   "metadata": {},
   "outputs": [
    {
     "data": {
      "text/plain": [
       "24"
      ]
     },
     "execution_count": 39,
     "metadata": {},
     "output_type": "execute_result"
    }
   ],
   "source": [
    "(2*4 + 4) * 2"
   ]
  },
  {
   "cell_type": "code",
   "execution_count": 40,
   "metadata": {},
   "outputs": [
    {
     "data": {
      "text/plain": [
       "120"
      ]
     },
     "execution_count": 40,
     "metadata": {},
     "output_type": "execute_result"
    }
   ],
   "source": [
    "10 * env.amount_of_gtps * 2 * 2"
   ]
  },
  {
   "cell_type": "code",
   "execution_count": 45,
   "metadata": {},
   "outputs": [
    {
     "data": {
      "text/plain": [
       "294"
      ]
     },
     "execution_count": 45,
     "metadata": {},
     "output_type": "execute_result"
    }
   ],
   "source": [
    "2*((2*((env.amount_of_gtps*4) + 13)) + ((env.amount_of_gtps *4) + 13) + ((2*4 + 4))) + (10 * env.amount_of_gtps * 2 * 2)"
   ]
  },
  {
   "cell_type": "code",
   "execution_count": null,
   "metadata": {},
   "outputs": [],
   "source": [
    "print(env.observation_space, env.action_space)"
   ]
  },
  {
   "cell_type": "code",
   "execution_count": null,
   "metadata": {},
   "outputs": [],
   "source": [
    "env = DummyVecEnv([lambda: env1])\n",
    "model = PPO2(MlpPolicy, env, verbose=1)\n",
    "model.learn(total_timesteps=100000)"
   ]
  },
  {
   "cell_type": "code",
   "execution_count": null,
   "metadata": {},
   "outputs": [],
   "source": [
    "model.learn(total_timesteps=1000000)"
   ]
  },
  {
   "cell_type": "code",
   "execution_count": null,
   "metadata": {},
   "outputs": [],
   "source": [
    "obs = env.reset()\n",
    "for i in range(1000):\n",
    "    action, _states = model.predict(obs)\n",
    "    obs, rewards, dones, info = env.step(action)\n",
    "    env.render()"
   ]
  },
  {
   "cell_type": "code",
   "execution_count": null,
   "metadata": {},
   "outputs": [],
   "source": [
    "model.save('Model1Mtimesteps.zip')"
   ]
  },
  {
   "cell_type": "code",
   "execution_count": null,
   "metadata": {},
   "outputs": [],
   "source": [
    "model.load('Model1Mtimesteps.zip')"
   ]
  },
  {
   "cell_type": "code",
   "execution_count": null,
   "metadata": {},
   "outputs": [],
   "source": [
    "model.learn(total_timesteps=1000000)"
   ]
  },
  {
   "cell_type": "code",
   "execution_count": null,
   "metadata": {},
   "outputs": [],
   "source": [
    "model.save('Model2Mtimesteps.zip')"
   ]
  },
  {
   "cell_type": "code",
   "execution_count": null,
   "metadata": {},
   "outputs": [],
   "source": [
    "model.load('Model1Mtimesteps.zip')\n",
    "\n",
    "obs = env.reset()\n",
    "for i in range(1000):\n",
    "    action, _states = model.predict(obs)\n",
    "    obs, rewards, dones, info = env.step(action)\n",
    "    env.render()"
   ]
  }
 ],
 "metadata": {
  "kernelspec": {
   "display_name": "Python 3",
   "language": "python",
   "name": "python3"
  },
  "language_info": {
   "codemirror_mode": {
    "name": "ipython",
    "version": 3
   },
   "file_extension": ".py",
   "mimetype": "text/x-python",
   "name": "python",
   "nbconvert_exporter": "python",
   "pygments_lexer": "ipython3",
   "version": "3.6.8"
  }
 },
 "nbformat": 4,
 "nbformat_minor": 4
}
