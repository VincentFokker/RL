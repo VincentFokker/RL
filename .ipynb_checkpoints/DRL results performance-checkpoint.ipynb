{
 "cells": [
  {
   "cell_type": "code",
   "execution_count": 1,
   "metadata": {},
   "outputs": [],
   "source": [
    "import rl.environments\n",
    "from os.path import join\n",
    "from stable_baselines import PPO2\n",
    "from stable_baselines.common.vec_env import DummyVecEnv\n",
    "import yaml, pathlib\n",
    "import numpy as np\n",
    "import pandas as pd\n",
    "import matplotlib.pyplot as plt\n",
    "\n",
    "path = pathlib.Path().absolute()\n",
    "\n",
    "# to_combine=[\n",
    "#    ['ConveyorEnv', '20210106_1730'],        #2x2\n",
    "#     ['ConveyorEnv','20210107_0000'],         #2x3\n",
    "#     ['ConveyorEnv1','20210107_2200'],         #3x3\n",
    "#     ['ConveyorEnv1','20210107_2300'], #4x3\n",
    "#     ['ConveyorEnv1','20210107_2400'],\n",
    "#     ['ConveyorEnv1','20210107_2400_2']#5x3\n",
    "# ]\n",
    "\n",
    "# to_combine=[\n",
    "#     ['AbstractConveyor1','20201217_1700'],\n",
    "#     ['AbstractConveyor1','20201217_1800'],\n",
    "#     ['AbstractConveyor1','20201217_1900'],\n",
    "#     ['AbstractConveyor1','20201217_2000'],\n",
    "#     ['AbstractConveyor1','20201217_2100'],\n",
    "#     ['AbstractConveyor1','20201217_2200'],\n",
    "#     ['AbstractConveyor1','20201217_2300'],\n",
    "#     ['AbstractConveyor1','20201217_2400'],\n",
    "#     ['AbstractConveyor1','20201217_2500']\n",
    "    \n",
    "# ]"
   ]
  },
  {
   "cell_type": "code",
   "execution_count": 16,
   "metadata": {},
   "outputs": [
    {
     "name": "stderr",
     "output_type": "stream",
     "text": [
      "c:\\users\\_vinc\\appdata\\local\\programs\\python\\python37\\lib\\site-packages\\ipykernel_launcher.py:14: YAMLLoadWarning: calling yaml.load() without Loader=... is deprecated, as the default Loader is unsafe. Please read https://msg.pyyaml.org/load for full details.\n",
      "  \n"
     ]
    },
    {
     "name": "stdout",
     "output_type": "stream",
     "text": [
      "\n",
      "Loaded config file from: D:\\Drive\\git\\RL\\rl\\trained_models\\ConveyorEnv\\20210106_1730\\config.yml\n",
      "\n",
      "Ep:   100, steps: 1326, R: 1448.000\r"
     ]
    },
    {
     "name": "stderr",
     "output_type": "stream",
     "text": [
      "c:\\users\\_vinc\\appdata\\local\\programs\\python\\python37\\lib\\site-packages\\ipykernel_launcher.py:14: YAMLLoadWarning: calling yaml.load() without Loader=... is deprecated, as the default Loader is unsafe. Please read https://msg.pyyaml.org/load for full details.\n",
      "  \n"
     ]
    },
    {
     "name": "stdout",
     "output_type": "stream",
     "text": [
      "\n",
      "Loaded config file from: D:\\Drive\\git\\RL\\rl\\trained_models\\ConveyorEnv\\20210107_0000\\config.yml\n",
      "\n",
      "Ep:   100, steps: 1500, R: 1480.0000\r"
     ]
    },
    {
     "name": "stderr",
     "output_type": "stream",
     "text": [
      "c:\\users\\_vinc\\appdata\\local\\programs\\python\\python37\\lib\\site-packages\\ipykernel_launcher.py:14: YAMLLoadWarning: calling yaml.load() without Loader=... is deprecated, as the default Loader is unsafe. Please read https://msg.pyyaml.org/load for full details.\n",
      "  \n"
     ]
    },
    {
     "name": "stdout",
     "output_type": "stream",
     "text": [
      "\n",
      "Loaded config file from: D:\\Drive\\git\\RL\\rl\\trained_models\\ConveyorEnv1\\20210107_2200\\config.yml\n",
      "\n",
      "Ep:   100, steps: 768, R: 822.000\r"
     ]
    },
    {
     "name": "stderr",
     "output_type": "stream",
     "text": [
      "c:\\users\\_vinc\\appdata\\local\\programs\\python\\python37\\lib\\site-packages\\ipykernel_launcher.py:14: YAMLLoadWarning: calling yaml.load() without Loader=... is deprecated, as the default Loader is unsafe. Please read https://msg.pyyaml.org/load for full details.\n",
      "  \n"
     ]
    },
    {
     "name": "stdout",
     "output_type": "stream",
     "text": [
      "\n",
      "Loaded config file from: D:\\Drive\\git\\RL\\rl\\trained_models\\ConveyorEnv1\\20210107_2300\\config.yml\n",
      "\n",
      "Ep:   100, steps: 1484, R: 0.00000\r"
     ]
    },
    {
     "name": "stderr",
     "output_type": "stream",
     "text": [
      "c:\\users\\_vinc\\appdata\\local\\programs\\python\\python37\\lib\\site-packages\\ipykernel_launcher.py:14: YAMLLoadWarning: calling yaml.load() without Loader=... is deprecated, as the default Loader is unsafe. Please read https://msg.pyyaml.org/load for full details.\n",
      "  \n"
     ]
    },
    {
     "name": "stdout",
     "output_type": "stream",
     "text": [
      "\n",
      "Loaded config file from: D:\\Drive\\git\\RL\\rl\\trained_models\\ConveyorEnv1\\20210107_2400\\config.yml\n",
      "\n",
      "Ep:   100, steps: 1518, R: -30.0000\r"
     ]
    },
    {
     "name": "stderr",
     "output_type": "stream",
     "text": [
      "c:\\users\\_vinc\\appdata\\local\\programs\\python\\python37\\lib\\site-packages\\ipykernel_launcher.py:14: YAMLLoadWarning: calling yaml.load() without Loader=... is deprecated, as the default Loader is unsafe. Please read https://msg.pyyaml.org/load for full details.\n",
      "  \n"
     ]
    },
    {
     "name": "stdout",
     "output_type": "stream",
     "text": [
      "\n",
      "Loaded config file from: D:\\Drive\\git\\RL\\rl\\trained_models\\ConveyorEnv1\\20210107_2400_2\\config.yml\n",
      "\n",
      "Ep:   100, steps: 1342, R: -12.000\r"
     ]
    }
   ],
   "source": [
    "env1, subdir = to_combine[0]\n",
    "episodes = 100\n",
    "combinations = ['2x2', '2x2_pretrained', '2x2_sto', '2x2_sto_gamma_adjust', '2x2_sto_only_punish', '2x2_sto_only_punish_lowerR']\n",
    "#combinations = ['2x2', '2x2_pretrained', '2x3', '3x3', '4x3', '5x3']\n",
    "#combinations = ['buffersize_{}'.format(i+1) for i in range(11)]\n",
    "#combinations = ['pipeline_{}'.format(i+1) for i in range(10,55,5)]\n",
    "\n",
    "results = {}\n",
    "for idx, combination in enumerate(to_combine):\n",
    "    env1, subdir = combination\n",
    "    # load config and variables needed\n",
    "    location_path= join(path, 'rl', 'trained_models', env1, subdir)\n",
    "    with open(join(location_path, 'config.yml'), 'r') as c:\n",
    "        config = yaml.load(c)\n",
    "        print('\\nLoaded config file from: {}\\n'.format(join(location_path, 'config.yml')))\n",
    "    model_config = config['models']['PPO2']\n",
    "\n",
    "    #initialize env with the config file\n",
    "    env_obj = getattr(rl.environments, env1)\n",
    "    env = env_obj(config)\n",
    " \n",
    "\n",
    "    # load best model from path\n",
    "    model = PPO2.load(join(location_path, 'best_model.zip'), env=DummyVecEnv([lambda: env]))\n",
    "\n",
    "\n",
    "    results[combinations[idx]] = {}\n",
    "    results[combinations[idx]]['idle_time'] = 0\n",
    "    results[combinations[idx]]['cycle_count'] = 0\n",
    "    results[combinations[idx]]['steps'] = 0\n",
    "    results[combinations[idx]]['items_processed'] = 0\n",
    "\n",
    "    for episode in range(episodes):\n",
    "        # Run an episode\n",
    "        state = env.reset()\n",
    "        done = False\n",
    "        while not done:\n",
    "            action, _ = model.predict(state, deterministic=True)\n",
    "            state, reward, done, tc = env.step(action)\n",
    "        results[combinations[idx]]['idle_time'] += sum(env.idle_times_operator.values())\n",
    "        results[combinations[idx]]['cycle_count'] += env.cycle_count\n",
    "        results[combinations[idx]]['steps'] += env.steps\n",
    "        results[combinations[idx]]['items_processed'] += env.items_processed\n",
    "    results[combinations[idx]]['idle_time'] = results[combinations[idx]]['idle_time'] / episodes\n",
    "    results[combinations[idx]]['cycle_count'] = results[combinations[idx]]['cycle_count'] /episodes\n",
    "    results[combinations[idx]]['steps'] = results[combinations[idx]]['steps'] /episodes\n",
    "    results[combinations[idx]]['items_processed'] = results[combinations[idx]]['items_processed'] /episodes"
   ]
  },
  {
   "cell_type": "code",
   "execution_count": 17,
   "metadata": {},
   "outputs": [
    {
     "data": {
      "text/html": [
       "<div>\n",
       "<style scoped>\n",
       "    .dataframe tbody tr th:only-of-type {\n",
       "        vertical-align: middle;\n",
       "    }\n",
       "\n",
       "    .dataframe tbody tr th {\n",
       "        vertical-align: top;\n",
       "    }\n",
       "\n",
       "    .dataframe thead th {\n",
       "        text-align: right;\n",
       "    }\n",
       "</style>\n",
       "<table border=\"1\" class=\"dataframe\">\n",
       "  <thead>\n",
       "    <tr style=\"text-align: right;\">\n",
       "      <th></th>\n",
       "      <th>index</th>\n",
       "      <th>idle_time</th>\n",
       "      <th>cycle_count</th>\n",
       "      <th>steps</th>\n",
       "      <th>items_processed</th>\n",
       "      <th>idle_percent</th>\n",
       "    </tr>\n",
       "  </thead>\n",
       "  <tbody>\n",
       "    <tr>\n",
       "      <td>0</td>\n",
       "      <td>2x2</td>\n",
       "      <td>0.08</td>\n",
       "      <td>6.09</td>\n",
       "      <td>1436.55</td>\n",
       "      <td>151.01</td>\n",
       "      <td>0.005569</td>\n",
       "    </tr>\n",
       "    <tr>\n",
       "      <td>1</td>\n",
       "      <td>2x2_pretrained</td>\n",
       "      <td>27.97</td>\n",
       "      <td>7.40</td>\n",
       "      <td>1445.49</td>\n",
       "      <td>150.66</td>\n",
       "      <td>1.934984</td>\n",
       "    </tr>\n",
       "    <tr>\n",
       "      <td>2</td>\n",
       "      <td>2x2_sto</td>\n",
       "      <td>0.22</td>\n",
       "      <td>0.57</td>\n",
       "      <td>779.11</td>\n",
       "      <td>81.03</td>\n",
       "      <td>0.028237</td>\n",
       "    </tr>\n",
       "    <tr>\n",
       "      <td>3</td>\n",
       "      <td>2x2_sto_gamma_adjust</td>\n",
       "      <td>0.03</td>\n",
       "      <td>0.44</td>\n",
       "      <td>1432.78</td>\n",
       "      <td>151.03</td>\n",
       "      <td>0.002094</td>\n",
       "    </tr>\n",
       "    <tr>\n",
       "      <td>4</td>\n",
       "      <td>2x2_sto_only_punish</td>\n",
       "      <td>0.83</td>\n",
       "      <td>0.47</td>\n",
       "      <td>1443.71</td>\n",
       "      <td>151.00</td>\n",
       "      <td>0.057491</td>\n",
       "    </tr>\n",
       "    <tr>\n",
       "      <td>5</td>\n",
       "      <td>2x2_sto_only_punish_lowerR</td>\n",
       "      <td>0.01</td>\n",
       "      <td>0.14</td>\n",
       "      <td>1431.51</td>\n",
       "      <td>151.02</td>\n",
       "      <td>0.000699</td>\n",
       "    </tr>\n",
       "  </tbody>\n",
       "</table>\n",
       "</div>"
      ],
      "text/plain": [
       "                        index  idle_time  cycle_count    steps  \\\n",
       "0                         2x2       0.08         6.09  1436.55   \n",
       "1              2x2_pretrained      27.97         7.40  1445.49   \n",
       "2                     2x2_sto       0.22         0.57   779.11   \n",
       "3        2x2_sto_gamma_adjust       0.03         0.44  1432.78   \n",
       "4         2x2_sto_only_punish       0.83         0.47  1443.71   \n",
       "5  2x2_sto_only_punish_lowerR       0.01         0.14  1431.51   \n",
       "\n",
       "   items_processed  idle_percent  \n",
       "0           151.01      0.005569  \n",
       "1           150.66      1.934984  \n",
       "2            81.03      0.028237  \n",
       "3           151.03      0.002094  \n",
       "4           151.00      0.057491  \n",
       "5           151.02      0.000699  "
      ]
     },
     "execution_count": 17,
     "metadata": {},
     "output_type": "execute_result"
    }
   ],
   "source": [
    "resultcsv = pd.DataFrame.from_dict(results).T\n",
    "#resultcsv.to_csv('results_DRL.csv')\n",
    "resultcsv['idle_percent'] = resultcsv.idle_time/resultcsv.steps * 100\n",
    "#resultcsv['orders_processed'] = [50, 150, 150,250,350, 450]\n",
    "#resultcsv['cycle_percent'] = resultcsv.cycle_count/resultcsv.orders_processed * 100\n",
    "resultcsv = resultcsv.reset_index()\n",
    "resultcsv"
   ]
  },
  {
   "cell_type": "code",
   "execution_count": 13,
   "metadata": {},
   "outputs": [
    {
     "data": {
      "text/html": [
       "<div>\n",
       "<style scoped>\n",
       "    .dataframe tbody tr th:only-of-type {\n",
       "        vertical-align: middle;\n",
       "    }\n",
       "\n",
       "    .dataframe tbody tr th {\n",
       "        vertical-align: top;\n",
       "    }\n",
       "\n",
       "    .dataframe thead th {\n",
       "        text-align: right;\n",
       "    }\n",
       "</style>\n",
       "<table border=\"1\" class=\"dataframe\">\n",
       "  <thead>\n",
       "    <tr style=\"text-align: right;\">\n",
       "      <th></th>\n",
       "      <th>index</th>\n",
       "      <th>idle_time</th>\n",
       "      <th>cycle_count</th>\n",
       "      <th>steps</th>\n",
       "      <th>idle_percent</th>\n",
       "    </tr>\n",
       "  </thead>\n",
       "  <tbody>\n",
       "    <tr>\n",
       "      <td>0</td>\n",
       "      <td>2x2</td>\n",
       "      <td>0.23</td>\n",
       "      <td>5.46</td>\n",
       "      <td>1432.86</td>\n",
       "      <td>0.016052</td>\n",
       "    </tr>\n",
       "    <tr>\n",
       "      <td>1</td>\n",
       "      <td>2x2_pretrained</td>\n",
       "      <td>1.78</td>\n",
       "      <td>4.22</td>\n",
       "      <td>1431.76</td>\n",
       "      <td>0.124323</td>\n",
       "    </tr>\n",
       "    <tr>\n",
       "      <td>2</td>\n",
       "      <td>2x2_sto</td>\n",
       "      <td>0.62</td>\n",
       "      <td>0.83</td>\n",
       "      <td>763.14</td>\n",
       "      <td>0.081243</td>\n",
       "    </tr>\n",
       "    <tr>\n",
       "      <td>3</td>\n",
       "      <td>2x2_sto_gamma_adjust</td>\n",
       "      <td>0.06</td>\n",
       "      <td>0.27</td>\n",
       "      <td>1424.50</td>\n",
       "      <td>0.004212</td>\n",
       "    </tr>\n",
       "    <tr>\n",
       "      <td>4</td>\n",
       "      <td>2x2_sto_only_punish</td>\n",
       "      <td>0.07</td>\n",
       "      <td>0.25</td>\n",
       "      <td>1420.82</td>\n",
       "      <td>0.004927</td>\n",
       "    </tr>\n",
       "    <tr>\n",
       "      <td>5</td>\n",
       "      <td>2x2_sto_only_punish_lowerR</td>\n",
       "      <td>0.00</td>\n",
       "      <td>0.07</td>\n",
       "      <td>1431.39</td>\n",
       "      <td>0.000000</td>\n",
       "    </tr>\n",
       "    <tr>\n",
       "      <td>6</td>\n",
       "      <td>heuristic</td>\n",
       "      <td>0.35</td>\n",
       "      <td>0.29</td>\n",
       "      <td>760.99</td>\n",
       "      <td>NaN</td>\n",
       "    </tr>\n",
       "  </tbody>\n",
       "</table>\n",
       "</div>"
      ],
      "text/plain": [
       "                        index  idle_time  cycle_count    steps  idle_percent\n",
       "0                         2x2       0.23         5.46  1432.86      0.016052\n",
       "1              2x2_pretrained       1.78         4.22  1431.76      0.124323\n",
       "2                     2x2_sto       0.62         0.83   763.14      0.081243\n",
       "3        2x2_sto_gamma_adjust       0.06         0.27  1424.50      0.004212\n",
       "4         2x2_sto_only_punish       0.07         0.25  1420.82      0.004927\n",
       "5  2x2_sto_only_punish_lowerR       0.00         0.07  1431.39      0.000000\n",
       "6                   heuristic       0.35         0.29   760.99           NaN"
      ]
     },
     "execution_count": 13,
     "metadata": {},
     "output_type": "execute_result"
    }
   ],
   "source": [
    "resultcsv.append({'index': 'heuristic', 'idle_time':0.35, 'cycle_count': 0.29, 'steps':760.99}, ignore_index=True)"
   ]
  },
  {
   "cell_type": "markdown",
   "metadata": {},
   "source": [
    "# queue occupation"
   ]
  },
  {
   "cell_type": "code",
   "execution_count": 22,
   "metadata": {
    "scrolled": false
   },
   "outputs": [
    {
     "name": "stdout",
     "output_type": "stream",
     "text": [
      "\n",
      "Loaded config file from: D:\\Drive\\git\\RL\\rl\\trained_models\\AbstractConveyor2\\20201217_1400\\config.yml\n",
      "\n"
     ]
    },
    {
     "name": "stderr",
     "output_type": "stream",
     "text": [
      "c:\\users\\_vinc\\appdata\\local\\programs\\python\\python37\\lib\\site-packages\\ipykernel_launcher.py:25: YAMLLoadWarning: calling yaml.load() without Loader=... is deprecated, as the default Loader is unsafe. Please read https://msg.pyyaml.org/load for full details.\n"
     ]
    },
    {
     "ename": "AttributeError",
     "evalue": "module 'rl.environments' has no attribute 'AbstractConveyor2'",
     "output_type": "error",
     "traceback": [
      "\u001b[1;31m---------------------------------------------------------------------------\u001b[0m",
      "\u001b[1;31mAttributeError\u001b[0m                            Traceback (most recent call last)",
      "\u001b[1;32m<ipython-input-22-cec927e0c9e1>\u001b[0m in \u001b[0;36m<module>\u001b[1;34m\u001b[0m\n\u001b[0;32m     28\u001b[0m \u001b[1;33m\u001b[0m\u001b[0m\n\u001b[0;32m     29\u001b[0m     \u001b[1;31m#initialize env with the config file\u001b[0m\u001b[1;33m\u001b[0m\u001b[1;33m\u001b[0m\u001b[1;33m\u001b[0m\u001b[0m\n\u001b[1;32m---> 30\u001b[1;33m     \u001b[0menv_obj\u001b[0m \u001b[1;33m=\u001b[0m \u001b[0mgetattr\u001b[0m\u001b[1;33m(\u001b[0m\u001b[0mrl\u001b[0m\u001b[1;33m.\u001b[0m\u001b[0menvironments\u001b[0m\u001b[1;33m,\u001b[0m \u001b[0menv1\u001b[0m\u001b[1;33m)\u001b[0m\u001b[1;33m\u001b[0m\u001b[1;33m\u001b[0m\u001b[0m\n\u001b[0m\u001b[0;32m     31\u001b[0m     \u001b[0menv\u001b[0m \u001b[1;33m=\u001b[0m \u001b[0menv_obj\u001b[0m\u001b[1;33m(\u001b[0m\u001b[0mconfig\u001b[0m\u001b[1;33m)\u001b[0m\u001b[1;33m\u001b[0m\u001b[1;33m\u001b[0m\u001b[0m\n\u001b[0;32m     32\u001b[0m \u001b[1;33m\u001b[0m\u001b[0m\n",
      "\u001b[1;31mAttributeError\u001b[0m: module 'rl.environments' has no attribute 'AbstractConveyor2'"
     ]
    }
   ],
   "source": [
    "env1, subdir = to_combine[0]\n",
    "episodes = 10\n",
    "#combinations = ['1x2', '2x2', '2x3', '3x3', '4x3', '5x3']\n",
    "\n",
    "to_combine=[\n",
    "    ['AbstractConveyor2','20201217_1400'],\n",
    "    ['AbstractConveyor2','20201217_1500'],\n",
    "    ['AbstractConveyor2','20201217_1600'],\n",
    "    ['AbstractConveyor2','20201217_1700'],\n",
    "    ['AbstractConveyor2','20201217_1800'],\n",
    "    ['AbstractConveyor2','20201217_1900'],\n",
    "    ['AbstractConveyor2','20201217_2000'],\n",
    "    ['AbstractConveyor2','20201217_2100'],\n",
    "    ['AbstractConveyor2','20201217_2200'],\n",
    "    ['AbstractConveyor2','20201217_2300']\n",
    "    \n",
    "]\n",
    "\n",
    "results = {}\n",
    "for idx, combination in enumerate(to_combine):\n",
    "    env1, subdir = combination\n",
    "    # load config and variables needed\n",
    "    location_path= join(path, 'rl', 'trained_models', env1, subdir)\n",
    "    with open(join(location_path, 'config.yml'), 'r') as c:\n",
    "        config = yaml.load(c)\n",
    "        print('\\nLoaded config file from: {}\\n'.format(join(location_path, 'config.yml')))\n",
    "    model_config = config['models']['PPO2']\n",
    "\n",
    "    #initialize env with the config file\n",
    "    env_obj = getattr(rl.environments, env1)\n",
    "    env = env_obj(config)\n",
    "\n",
    "    # load best model from path\n",
    "    model = PPO2.load(join(location_path, 'model.zip'), env=DummyVecEnv([lambda: env]))\n",
    "\n",
    "\n",
    "\n",
    "\n",
    "    log_data=[]\n",
    "    for episode in range(episodes):\n",
    "        state = env.reset()\n",
    "        done = False\n",
    "        while not done:\n",
    "            action, _ = model.predict(state, deterministic=False)\n",
    "            state, reward, done, tc = env.step(action)\n",
    "            log_data.append(env.len_queues)\n",
    "    log_dataframe = pd.DataFrame(np.array(log_data)).reset_index()\n",
    "    for i in range(env.amount_of_gtps):\n",
    "        print('mean: ', log_dataframe[i].mean(), 'std: ', log_dataframe[i].std())\n",
    "\n",
    "    labels = ['Queue 1', 'Queue 2', 'Queue 3', 'Queue 4', 'Queue 5']\n",
    "    plt.boxplot([log_dataframe[i] for i in range(env.amount_of_gtps)], notch=True, labels=[label for label in labels][:env.amount_of_gtps], showfliers=False)\n",
    "    plt.ylim(0,1)\n",
    "    plt.ylabel('Queue occupation %')\n",
    "    plt.xlabel('Queue number')\n",
    "    plt.title('Occupation of queues for a {}x{} design'.format(env.amount_of_gtps, env.amount_of_outputs))\n",
    "    plt.savefig('figures/box_rl_queues_{}x{}.png'.format(env.amount_of_gtps, env.amount_of_outputs))\n",
    "    plt.show()\n",
    "  "
   ]
  },
  {
   "cell_type": "code",
   "execution_count": 40,
   "metadata": {},
   "outputs": [
    {
     "data": {
      "text/plain": [
       "20"
      ]
     },
     "execution_count": 40,
     "metadata": {},
     "output_type": "execute_result"
    }
   ],
   "source": [
    "self.diverter_locations[workstation][0]"
   ]
  },
  {
   "cell_type": "code",
   "execution_count": 38,
   "metadata": {},
   "outputs": [
    {
     "data": {
      "image/png": "[encoded data removed]",
      "text/plain": [
       "<Figure size 432x288 with 1 Axes>"
      ]
     },
     "metadata": {
      "needs_background": "light"
     },
     "output_type": "display_data"
    }
   ],
   "source": [
    "env.render_plt()"
   ]
  },
  {
   "cell_type": "code",
   "execution_count": 12,
   "metadata": {},
   "outputs": [],
   "source": [
    "def get_env_type(env_name):\n",
    "    \"\"\"\n",
    "    Get the type of environment from the env_name string\n",
    "    \"\"\"\n",
    "    try:\n",
    "        env = gym.make(env_name)\n",
    "        del env\n",
    "        return 'gym'\n",
    "    except:\n",
    "        return 'rl'"
   ]
  },
  {
   "cell_type": "code",
   "execution_count": 14,
   "metadata": {},
   "outputs": [],
   "source": [
    "def make_rl(**kwargs):\n",
    "    \"\"\"\n",
    "    Decorator for custom RL environments\n",
    "    \"\"\"\n",
    "    def _init():\n",
    "        env_obj = getattr(rl.environments, env_name)\n",
    "        env = env_obj(config)\n",
    "        return env\n",
    "    return _init\n",
    "\n",
    "def make_gym(rank, seed=0, **kwargs):\n",
    "    \"\"\"\n",
    "    Decorator for gym environments\n",
    "    \"\"\"\n",
    "    def _init():\n",
    "        env = gym.make(env_name)\n",
    "        env.seed(seed + rank)\n",
    "        return env\n",
    "    return _init"
   ]
  },
  {
   "cell_type": "code",
   "execution_count": 30,
   "metadata": {},
   "outputs": [],
   "source": [
    "env_name = 'ConveyorEnv'\n",
    "n_workers = 8\n",
    "env_obj = getattr(rl.environments, env_name)\n",
    "env = env_obj(config)\n",
    "\n",
    "# multiprocess environment\n",
    "env8 = [env for _ in range(n_workers)]"
   ]
  },
  {
   "cell_type": "code",
   "execution_count": 32,
   "metadata": {},
   "outputs": [
    {
     "name": "stderr",
     "output_type": "stream",
     "text": [
      "INFO:tensorflow:TensorFlow\n"
     ]
    }
   ],
   "source": [
    "from rl.baselines.Wrapper import create_env"
   ]
  },
  {
   "cell_type": "code",
   "execution_count": 34,
   "metadata": {},
   "outputs": [],
   "source": [
    "env8 = create_env(env_name, config=config, n_workers=8)"
   ]
  },
  {
   "cell_type": "code",
   "execution_count": 35,
   "metadata": {},
   "outputs": [
    {
     "data": {
      "text/plain": [
       "<stable_baselines.common.vec_env.subproc_vec_env.SubprocVecEnv at 0x228cb1dcb08>"
      ]
     },
     "execution_count": 35,
     "metadata": {},
     "output_type": "execute_result"
    }
   ],
   "source": [
    "env8"
   ]
  }
 ],
 "metadata": {
  "kernelspec": {
   "display_name": "th_new-venv",
   "language": "python",
   "name": "th_new-venv"
  },
  "language_info": {
   "codemirror_mode": {
    "name": "ipython",
    "version": 3
   },
   "file_extension": ".py",
   "mimetype": "text/x-python",
   "name": "python",
   "nbconvert_exporter": "python",
   "pygments_lexer": "ipython3",
   "version": "3.7.5"
  }
 },
 "nbformat": 4,
 "nbformat_minor": 4
}
