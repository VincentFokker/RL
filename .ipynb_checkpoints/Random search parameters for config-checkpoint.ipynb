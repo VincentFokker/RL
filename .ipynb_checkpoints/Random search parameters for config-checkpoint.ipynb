{
 "cells": [
  {
   "cell_type": "code",
   "execution_count": 2,
   "metadata": {},
   "outputs": [],
   "source": [
    "import yaml\n",
    "import random\n",
    "from copy import copy\n",
    "from os.path import join\n",
    "import os \n",
    "import datetime\n",
    "\n",
    "env = 'AbstractConveyor'\n",
    "\n",
    "def generate_configs(config, RS_vars, amount_to_gen, time=50, custom_dir=None):\n",
    "    \"\"\"\n",
    "    Generate x amount of iterations based on the RS_vars for a given config.\n",
    "    PARAMSIN: config (dict), RS_vars(dict), amount_to_gen(int)\n",
    "    PARAMSOUT: n amount of config files in config/custom/ , bat script text\n",
    "    \n",
    "    all config files are written to rl/config/custom\n",
    "    \"\"\"\n",
    "    # do a random selection of vars, generate config\n",
    "    \n",
    "    if custom_dir != None:\n",
    "        custom_loc = custom_dir\n",
    "        try:\n",
    "            os.mkdir(join('rl', 'config', custom_loc))\n",
    "        except:\n",
    "            pass\n",
    "    else:\n",
    "        custom_loc = 'custom'\n",
    "    for i in range(amount_to_gen):\n",
    "        confign = copy(config)\n",
    "        for key in confign['environment']:\n",
    "            try:\n",
    "                confign['environment'][key] = RS_vars[key][random.randint(0, len(RS_vars[key])-1)]\n",
    "            except:\n",
    "                pass\n",
    "        with open(join('rl', 'config', custom_loc, 'config{}.yml'.format(i+1)), 'w') as f:\n",
    "            yaml.dump(confign, f, indent=4, sort_keys=False, line_break=' ')\n",
    "\n",
    "    #and generate the batch script to run the models\n",
    "        now = datetime.datetime.now()\n",
    "        now = now + datetime.timedelta(minutes=time*i)\n",
    "        folder ='{}{}{}_{}{}'.format(now.year, str(now.month).zfill(2), str(now.day).zfill(2), str(now.hour).zfill(2), str(now.minute).zfill(2))\n",
    "        settings = '|'.join(['{}'.format(confign['environment'][key]) for key in RS_vars])\n",
    "        print('python train2.py -e {} -s {} -n {} \\t -c config{}'.format(env, folder, settings, i+1))\n",
    "        print('python plotmaker.py -e {} -s {}'.format(env, folder))\n",
    "    print('PAUSE')\n",
    "\n",
    "config_path = 'rl/config/{}.yml'.format(env)\n",
    "with open(config_path, 'r') as f:\n",
    "    config = yaml.safe_load(f)\n",
    "\n",
    "\n",
    "# the different variable ranges\n",
    "RS_vars = {'idle_time_reward_factor': [0, 1, 2, 5, 7, 10],\n",
    "           'cycle_count_reward_factor': [0, 1, 2, 5, 7, 10],\n",
    "           'output_priming_reward': [0.01, 0.1, 0.5, 1, 3],\n",
    "           'delivery_reward': [1, 2, 5, 7, 10]\n",
    "}\n",
    "\n",
    "RS_vars2 = {'positive_reward_for_divert': [0, 1, 2, 5, 7, 10],\n",
    "           'wrong_sup_at_goal': [0, -1, -2, -5, -7, -10],\n",
    "           'flooding_reward': [0, -1, -2, -5, -7, -10],\n",
    "           'neg_reward_ia': [0, -1, -2, -5, -7, -10],\n",
    "           'negative_reward_for_empty_queue': [0, -1, -2, -5, -7, -10],\n",
    "           'negative_reward_for_cycle': [0, -1, -2, -5, -7, -10]\n",
    "}"
   ]
  },
  {
   "cell_type": "code",
   "execution_count": 4,
   "metadata": {},
   "outputs": [
    {
     "name": "stdout",
     "output_type": "stream",
     "text": [
      "python train2.py -e AbstractConveyor -s 20201123_1417 -n 0|-2|0|-7|0|-10 \t -c config1\n",
      "python plotmaker.py -e AbstractConveyor -s 20201123_1417\n",
      "python train2.py -e AbstractConveyor -s 20201123_1507 -n 10|-1|-2|-7|-7|-10 \t -c config2\n",
      "python plotmaker.py -e AbstractConveyor -s 20201123_1507\n",
      "python train2.py -e AbstractConveyor -s 20201123_1557 -n 10|-7|-1|-1|-1|-10 \t -c config3\n",
      "python plotmaker.py -e AbstractConveyor -s 20201123_1557\n",
      "python train2.py -e AbstractConveyor -s 20201123_1647 -n 2|-5|-5|-5|-1|-5 \t -c config4\n",
      "python plotmaker.py -e AbstractConveyor -s 20201123_1647\n",
      "python train2.py -e AbstractConveyor -s 20201123_1737 -n 10|-5|-2|-1|-2|-1 \t -c config5\n",
      "python plotmaker.py -e AbstractConveyor -s 20201123_1737\n",
      "python train2.py -e AbstractConveyor -s 20201123_1827 -n 7|-2|-7|-1|-1|-1 \t -c config6\n",
      "python plotmaker.py -e AbstractConveyor -s 20201123_1827\n",
      "python train2.py -e AbstractConveyor -s 20201123_1917 -n 10|-10|-10|-2|-10|-5 \t -c config7\n",
      "python plotmaker.py -e AbstractConveyor -s 20201123_1917\n",
      "python train2.py -e AbstractConveyor -s 20201123_2007 -n 7|-1|-10|-5|-5|-10 \t -c config8\n",
      "python plotmaker.py -e AbstractConveyor -s 20201123_2007\n",
      "python train2.py -e AbstractConveyor -s 20201123_2057 -n 2|-7|-10|-1|-1|-1 \t -c config9\n",
      "python plotmaker.py -e AbstractConveyor -s 20201123_2057\n",
      "python train2.py -e AbstractConveyor -s 20201123_2147 -n 10|-1|-1|-7|-5|0 \t -c config10\n",
      "python plotmaker.py -e AbstractConveyor -s 20201123_2147\n",
      "PAUSE\n"
     ]
    }
   ],
   "source": [
    "# Generate x random configs\n",
    "amount_to_generate = 10\n",
    "generate_configs(config, RS_vars2, amount_to_generate)"
   ]
  },
  {
   "cell_type": "code",
   "execution_count": 3,
   "metadata": {},
   "outputs": [
    {
     "name": "stdout",
     "output_type": "stream",
     "text": [
      "python train2.py -e AbstractConveyor -s 20201123_1414 -n 5|0|-10|-7|0|-5 \t -c config1\n",
      "python plotmaker.py -e AbstractConveyor -s 20201123_1414\n",
      "python train2.py -e AbstractConveyor -s 20201123_1504 -n 10|-7|-1|-5|0|-1 \t -c config2\n",
      "python plotmaker.py -e AbstractConveyor -s 20201123_1504\n",
      "python train2.py -e AbstractConveyor -s 20201123_1554 -n 7|-1|-5|-2|-7|0 \t -c config3\n",
      "python plotmaker.py -e AbstractConveyor -s 20201123_1554\n",
      "python train2.py -e AbstractConveyor -s 20201123_1644 -n 1|0|-7|-2|-10|-1 \t -c config4\n",
      "python plotmaker.py -e AbstractConveyor -s 20201123_1644\n",
      "python train2.py -e AbstractConveyor -s 20201123_1734 -n 2|-7|0|-1|-10|-7 \t -c config5\n",
      "python plotmaker.py -e AbstractConveyor -s 20201123_1734\n",
      "python train2.py -e AbstractConveyor -s 20201123_1824 -n 0|-7|-5|-7|-10|-2 \t -c config6\n",
      "python plotmaker.py -e AbstractConveyor -s 20201123_1824\n",
      "python train2.py -e AbstractConveyor -s 20201123_1914 -n 10|-5|-10|-5|-1|-1 \t -c config7\n",
      "python plotmaker.py -e AbstractConveyor -s 20201123_1914\n",
      "python train2.py -e AbstractConveyor -s 20201123_2004 -n 7|-1|-5|-5|-7|-10 \t -c config8\n",
      "python plotmaker.py -e AbstractConveyor -s 20201123_2004\n",
      "python train2.py -e AbstractConveyor -s 20201123_2054 -n 1|-2|-7|0|-5|-2 \t -c config9\n",
      "python plotmaker.py -e AbstractConveyor -s 20201123_2054\n",
      "python train2.py -e AbstractConveyor -s 20201123_2144 -n 2|0|-5|-10|-2|-10 \t -c config10\n",
      "python plotmaker.py -e AbstractConveyor -s 20201123_2144\n",
      "PAUSE\n"
     ]
    }
   ],
   "source": [
    "# Generate x random configs\n",
    "amount_to_generate = 10\n",
    "generate_configs(config, RS_vars2, amount_to_generate, 50, 'custom1')"
   ]
  }
 ],
 "metadata": {
  "kernelspec": {
   "display_name": "venv-th",
   "language": "python",
   "name": "venv-th"
  },
  "language_info": {
   "codemirror_mode": {
    "name": "ipython",
    "version": 3
   },
   "file_extension": ".py",
   "mimetype": "text/x-python",
   "name": "python",
   "nbconvert_exporter": "python",
   "pygments_lexer": "ipython3",
   "version": "3.7.5"
  }
 },
 "nbformat": 4,
 "nbformat_minor": 4
}
