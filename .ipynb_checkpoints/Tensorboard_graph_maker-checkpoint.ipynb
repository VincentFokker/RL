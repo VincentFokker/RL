{
 "cells": [
  {
   "cell_type": "code",
   "execution_count": 4,
   "metadata": {},
   "outputs": [
    {
     "name": "stdout",
     "output_type": "stream",
     "text": [
      "start import from tensorboard event\n"
     ]
    },
    {
     "ename": "InvalidArgumentError",
     "evalue": "NewRandomAccessFile failed to Create/Open: D:\\Drive\\git\\RL\rl\trained_models\\simple_conveyor_900930_1200",
     "output_type": "error",
     "traceback": [
      "\u001b[1;31m---------------------------------------------------------------------------\u001b[0m",
      "\u001b[1;31mInvalidArgumentError\u001b[0m                      Traceback (most recent call last)",
      "\u001b[1;32m<ipython-input-4-278db61049f7>\u001b[0m in \u001b[0;36m<module>\u001b[1;34m\u001b[0m\n\u001b[0;32m      8\u001b[0m \u001b[1;33m\u001b[0m\u001b[0m\n\u001b[0;32m      9\u001b[0m \u001b[0mprint\u001b[0m\u001b[1;33m(\u001b[0m\u001b[1;34m'start import from tensorboard event'\u001b[0m\u001b[1;33m)\u001b[0m\u001b[1;33m\u001b[0m\u001b[1;33m\u001b[0m\u001b[0m\n\u001b[1;32m---> 10\u001b[1;33m \u001b[0mea\u001b[0m \u001b[1;33m=\u001b[0m \u001b[0mevent_accumulator\u001b[0m\u001b[1;33m.\u001b[0m\u001b[0mEventAccumulator\u001b[0m\u001b[1;33m(\u001b[0m\u001b[0mpath\u001b[0m\u001b[1;33m)\u001b[0m\u001b[1;33m\u001b[0m\u001b[1;33m\u001b[0m\u001b[0m\n\u001b[0m\u001b[0;32m     11\u001b[0m \u001b[0mea\u001b[0m\u001b[1;33m.\u001b[0m\u001b[0mReload\u001b[0m\u001b[1;33m(\u001b[0m\u001b[1;33m)\u001b[0m  \u001b[1;31m# loads events from file\u001b[0m\u001b[1;33m\u001b[0m\u001b[1;33m\u001b[0m\u001b[0m\n\u001b[0;32m     12\u001b[0m \u001b[0mea\u001b[0m\u001b[1;33m.\u001b[0m\u001b[0mTags\u001b[0m\u001b[1;33m(\u001b[0m\u001b[1;33m)\u001b[0m\u001b[1;33m\u001b[0m\u001b[1;33m\u001b[0m\u001b[0m\n",
      "\u001b[1;32mc:\\users\\_vinc\\appdata\\local\\programs\\python\\python37\\lib\\site-packages\\tensorboard\\backend\\event_processing\\event_accumulator.py\u001b[0m in \u001b[0;36m__init__\u001b[1;34m(self, path, size_guidance, compression_bps, purge_orphaned_data)\u001b[0m\n\u001b[0;32m    204\u001b[0m     \u001b[0mself\u001b[0m\u001b[1;33m.\u001b[0m\u001b[0m_generator_mutex\u001b[0m \u001b[1;33m=\u001b[0m \u001b[0mthreading\u001b[0m\u001b[1;33m.\u001b[0m\u001b[0mLock\u001b[0m\u001b[1;33m(\u001b[0m\u001b[1;33m)\u001b[0m\u001b[1;33m\u001b[0m\u001b[1;33m\u001b[0m\u001b[0m\n\u001b[0;32m    205\u001b[0m     \u001b[0mself\u001b[0m\u001b[1;33m.\u001b[0m\u001b[0mpath\u001b[0m \u001b[1;33m=\u001b[0m \u001b[0mpath\u001b[0m\u001b[1;33m\u001b[0m\u001b[1;33m\u001b[0m\u001b[0m\n\u001b[1;32m--> 206\u001b[1;33m     \u001b[0mself\u001b[0m\u001b[1;33m.\u001b[0m\u001b[0m_generator\u001b[0m \u001b[1;33m=\u001b[0m \u001b[0m_GeneratorFromPath\u001b[0m\u001b[1;33m(\u001b[0m\u001b[0mpath\u001b[0m\u001b[1;33m)\u001b[0m\u001b[1;33m\u001b[0m\u001b[1;33m\u001b[0m\u001b[0m\n\u001b[0m\u001b[0;32m    207\u001b[0m \u001b[1;33m\u001b[0m\u001b[0m\n\u001b[0;32m    208\u001b[0m     \u001b[0mself\u001b[0m\u001b[1;33m.\u001b[0m\u001b[0m_compression_bps\u001b[0m \u001b[1;33m=\u001b[0m \u001b[0mcompression_bps\u001b[0m\u001b[1;33m\u001b[0m\u001b[1;33m\u001b[0m\u001b[0m\n",
      "\u001b[1;32mc:\\users\\_vinc\\appdata\\local\\programs\\python\\python37\\lib\\site-packages\\tensorboard\\backend\\event_processing\\event_accumulator.py\u001b[0m in \u001b[0;36m_GeneratorFromPath\u001b[1;34m(path)\u001b[0m\n\u001b[0;32m    739\u001b[0m     \u001b[1;32mraise\u001b[0m \u001b[0mValueError\u001b[0m\u001b[1;33m(\u001b[0m\u001b[1;34m'path must be a valid string'\u001b[0m\u001b[1;33m)\u001b[0m\u001b[1;33m\u001b[0m\u001b[1;33m\u001b[0m\u001b[0m\n\u001b[0;32m    740\u001b[0m   \u001b[1;32mif\u001b[0m \u001b[0mio_wrapper\u001b[0m\u001b[1;33m.\u001b[0m\u001b[0mIsTensorFlowEventsFile\u001b[0m\u001b[1;33m(\u001b[0m\u001b[0mpath\u001b[0m\u001b[1;33m)\u001b[0m\u001b[1;33m:\u001b[0m\u001b[1;33m\u001b[0m\u001b[1;33m\u001b[0m\u001b[0m\n\u001b[1;32m--> 741\u001b[1;33m     \u001b[1;32mreturn\u001b[0m \u001b[0mevent_file_loader\u001b[0m\u001b[1;33m.\u001b[0m\u001b[0mEventFileLoader\u001b[0m\u001b[1;33m(\u001b[0m\u001b[0mpath\u001b[0m\u001b[1;33m)\u001b[0m\u001b[1;33m\u001b[0m\u001b[1;33m\u001b[0m\u001b[0m\n\u001b[0m\u001b[0;32m    742\u001b[0m   \u001b[1;32melse\u001b[0m\u001b[1;33m:\u001b[0m\u001b[1;33m\u001b[0m\u001b[1;33m\u001b[0m\u001b[0m\n\u001b[0;32m    743\u001b[0m     return directory_watcher.DirectoryWatcher(\n",
      "\u001b[1;32mc:\\users\\_vinc\\appdata\\local\\programs\\python\\python37\\lib\\site-packages\\tensorboard\\backend\\event_processing\\event_file_loader.py\u001b[0m in \u001b[0;36m__init__\u001b[1;34m(self, file_path)\u001b[0m\n\u001b[0;32m     41\u001b[0m     \u001b[1;32mwith\u001b[0m \u001b[0mtf\u001b[0m\u001b[1;33m.\u001b[0m\u001b[0mcompat\u001b[0m\u001b[1;33m.\u001b[0m\u001b[0mv1\u001b[0m\u001b[1;33m.\u001b[0m\u001b[0merrors\u001b[0m\u001b[1;33m.\u001b[0m\u001b[0mraise_exception_on_not_ok_status\u001b[0m\u001b[1;33m(\u001b[0m\u001b[1;33m)\u001b[0m \u001b[1;32mas\u001b[0m \u001b[0mstatus\u001b[0m\u001b[1;33m:\u001b[0m\u001b[1;33m\u001b[0m\u001b[1;33m\u001b[0m\u001b[0m\n\u001b[0;32m     42\u001b[0m       self._reader = _pywrap_tensorflow.PyRecordReader_New(\n\u001b[1;32m---> 43\u001b[1;33m           tf.compat.as_bytes(file_path), 0, tf.compat.as_bytes(''), status)\n\u001b[0m\u001b[0;32m     44\u001b[0m     \u001b[1;31m# Store it for logging purposes.\u001b[0m\u001b[1;33m\u001b[0m\u001b[1;33m\u001b[0m\u001b[1;33m\u001b[0m\u001b[0m\n\u001b[0;32m     45\u001b[0m     \u001b[0mself\u001b[0m\u001b[1;33m.\u001b[0m\u001b[0m_file_path\u001b[0m \u001b[1;33m=\u001b[0m \u001b[0mfile_path\u001b[0m\u001b[1;33m\u001b[0m\u001b[1;33m\u001b[0m\u001b[0m\n",
      "\u001b[1;32mc:\\users\\_vinc\\appdata\\local\\programs\\python\\python37\\lib\\site-packages\\tensorflow\\python\\framework\\errors_impl.py\u001b[0m in \u001b[0;36m__exit__\u001b[1;34m(self, type_arg, value_arg, traceback_arg)\u001b[0m\n\u001b[0;32m    546\u001b[0m             \u001b[1;32mNone\u001b[0m\u001b[1;33m,\u001b[0m \u001b[1;32mNone\u001b[0m\u001b[1;33m,\u001b[0m\u001b[1;33m\u001b[0m\u001b[1;33m\u001b[0m\u001b[0m\n\u001b[0;32m    547\u001b[0m             \u001b[0mcompat\u001b[0m\u001b[1;33m.\u001b[0m\u001b[0mas_text\u001b[0m\u001b[1;33m(\u001b[0m\u001b[0mc_api\u001b[0m\u001b[1;33m.\u001b[0m\u001b[0mTF_Message\u001b[0m\u001b[1;33m(\u001b[0m\u001b[0mself\u001b[0m\u001b[1;33m.\u001b[0m\u001b[0mstatus\u001b[0m\u001b[1;33m.\u001b[0m\u001b[0mstatus\u001b[0m\u001b[1;33m)\u001b[0m\u001b[1;33m)\u001b[0m\u001b[1;33m,\u001b[0m\u001b[1;33m\u001b[0m\u001b[1;33m\u001b[0m\u001b[0m\n\u001b[1;32m--> 548\u001b[1;33m             c_api.TF_GetCode(self.status.status))\n\u001b[0m\u001b[0;32m    549\u001b[0m     \u001b[1;31m# Delete the underlying status object from memory otherwise it stays alive\u001b[0m\u001b[1;33m\u001b[0m\u001b[1;33m\u001b[0m\u001b[1;33m\u001b[0m\u001b[0m\n\u001b[0;32m    550\u001b[0m     \u001b[1;31m# as there is a reference to status from this from the traceback due to\u001b[0m\u001b[1;33m\u001b[0m\u001b[1;33m\u001b[0m\u001b[1;33m\u001b[0m\u001b[0m\n",
      "\u001b[1;31mInvalidArgumentError\u001b[0m: NewRandomAccessFile failed to Create/Open: D:\\Drive\\git\\RL\rl\trained_models\\simple_conveyor_900930_1200"
     ]
    }
   ],
   "source": [
    "import argparse\n",
    "from tensorboard.backend.event_processing import event_accumulator\n",
    "import pandas as pd\n",
    "from plotly.subplots import make_subplots\n",
    "import plotly.graph_objects as go\n",
    "\n",
    "path= 'D:\\Drive\\git\\RL\\rl\\trained_models\\simple_conveyor_9\\20200930_1200\\0_TestOnSmallerObs1_1\\events.out.tfevents.1601460171.DESKTOP-U0A7GKI'\n",
    "\n",
    "print('start import from tensorboard event')\n",
    "ea = event_accumulator.EventAccumulator(path)\n",
    "ea.Reload()  # loads events from file\n",
    "ea.Tags()\n",
    "print('import from tensorboard event done')"
   ]
  },
  {
   "cell_type": "code",
   "execution_count": 17,
   "metadata": {},
   "outputs": [],
   "source": [
    "df = pd.DataFrame()\n",
    "df = df.append({'name': 'Zed', 'age': 9, 'height': 2}, ignore_index=True)\n",
    "df1 =pd.DataFrame()\n",
    "df1 = df1.append({'name': 'Zed', 'age': 9, 'height': 2}, ignore_index=True)"
   ]
  },
  {
   "cell_type": "code",
   "execution_count": 22,
   "metadata": {},
   "outputs": [
    {
     "data": {
      "text/html": [
       "<div>\n",
       "<style scoped>\n",
       "    .dataframe tbody tr th:only-of-type {\n",
       "        vertical-align: middle;\n",
       "    }\n",
       "\n",
       "    .dataframe tbody tr th {\n",
       "        vertical-align: top;\n",
       "    }\n",
       "\n",
       "    .dataframe thead th {\n",
       "        text-align: right;\n",
       "    }\n",
       "</style>\n",
       "<table border=\"1\" class=\"dataframe\">\n",
       "  <thead>\n",
       "    <tr style=\"text-align: right;\">\n",
       "      <th></th>\n",
       "      <th>age</th>\n",
       "      <th>height</th>\n",
       "      <th>name</th>\n",
       "    </tr>\n",
       "  </thead>\n",
       "  <tbody>\n",
       "    <tr>\n",
       "      <td>0</td>\n",
       "      <td>9.0</td>\n",
       "      <td>2.0</td>\n",
       "      <td>Zed</td>\n",
       "    </tr>\n",
       "  </tbody>\n",
       "</table>\n",
       "</div>"
      ],
      "text/plain": [
       "   age  height name\n",
       "0  9.0     2.0  Zed"
      ]
     },
     "execution_count": 22,
     "metadata": {},
     "output_type": "execute_result"
    }
   ],
   "source": [
    "df_e = pd.DataFrame()\n",
    "df_e = df_e.append(df)\n",
    "df_e"
   ]
  },
  {
   "cell_type": "code",
   "execution_count": 26,
   "metadata": {},
   "outputs": [
    {
     "data": {
      "image/png": "[encoded data removed]",
      "text/plain": [
       "<Figure size 432x288 with 1 Axes>"
      ]
     },
     "metadata": {
      "needs_background": "light"
     },
     "output_type": "display_data"
    }
   ],
   "source": [
    "import matplotlib.pyplot as plt\n",
    "import numpy as np\n",
    "x = np.arange(0, 5, 0.1)\n",
    "y = np.sin(x)\n",
    "plt.plot(x, y)\n",
    "plt.show()\n",
    "# plt.savefig('foo.png')\n",
    "# plt.savefig('foo.pdf')"
   ]
  },
  {
   "cell_type": "code",
   "execution_count": 4,
   "metadata": {},
   "outputs": [
    {
     "name": "stderr",
     "output_type": "stream",
     "text": [
      "usage: ipykernel_launcher.py [-h] [-l LOGDIR] [-t TYPE] [-s SCALAR]\n",
      "ipykernel_launcher.py: error: unrecognized arguments: -f C:\\Users\\_Vinc\\AppData\\Roaming\\jupyter\\runtime\\kernel-4e7a1323-e571-4f92-82fd-88153c16e0f4.json\n"
     ]
    },
    {
     "ename": "SystemExit",
     "evalue": "2",
     "output_type": "error",
     "traceback": [
      "An exception has occurred, use %tb to see the full traceback.\n",
      "\u001b[1;31mSystemExit\u001b[0m\u001b[1;31m:\u001b[0m 2\n"
     ]
    },
    {
     "name": "stderr",
     "output_type": "stream",
     "text": [
      "c:\\users\\_vinc\\appdata\\local\\programs\\python\\python37\\lib\\site-packages\\IPython\\core\\interactiveshell.py:3334: UserWarning: To exit: use 'exit', 'quit', or Ctrl-D.\n",
      "  warn(\"To exit: use 'exit', 'quit', or Ctrl-D.\", stacklevel=1)\n"
     ]
    }
   ],
   "source": [
    "import argparse\n",
    "from tensorboard.backend.event_processing import event_accumulator\n",
    "import pandas as pd\n",
    "from plotly.subplots import make_subplots\n",
    "import plotly.graph_objects as go\n",
    "\"\"\"\n",
    "Script for plotting results of the logfiles with plotly.\n",
    "\n",
    "Usage:  python make_plots.py -l [LOGFILE] -t 0\n",
    "    OR\n",
    "        python make_plots.py -l [LOGFILE] -t 1 -s [SCALAR]\n",
    "    WHERE\n",
    "        SCALARS ARE:\n",
    "        'loss/entropy_loss','loss/policy_gradient_loss','loss/value_function_loss','loss/approximate_kullback-leibler',\n",
    "        'loss/clip_factor','loss/loss','input_info/discounted_rewards','input_info/learning_rate','input_info/advantage',\n",
    "        'input_info/clip_range','input_info/clip_range_vf','input_info/old_neglog_action_probabilty','input_info/old_value_pred',\n",
    "        'steps','amount_of_items_on_conv','amount_of_items_in_sys','remaining_demand','amount_of_orders_processed','positive_reward',\n",
    "        'cycle_count','run_count','episode_reward'\n",
    "\"\"\"\n",
    "\n",
    "def plot_tensorflow_log(path):\n",
    "    '''builds set of plots from a logfile'''\n",
    "    # Load the TB data\n",
    "    # files are large (200+ Mb, might take a while)\n",
    "    print('start import from tensorboard event')\n",
    "    ea = event_accumulator.EventAccumulator(path)\n",
    "    ea.Reload()  # loads events from file\n",
    "    ea.Tags()\n",
    "    print('import from tensorboard event done')\n",
    "\n",
    "    Scalars = ea.Tags()['scalars']\n",
    "    cols = 4\n",
    "    rows = len(Scalars) // cols + len(Scalars) % cols\n",
    "    fig = make_subplots(rows=rows, cols=cols)\n",
    "    print('Building Plots.. ')\n",
    "    for item in Scalars:\n",
    "        i = Scalars.index(item) + 1\n",
    "        col1 = (i - 1) % cols + 1\n",
    "        row1 = (i + cols - 1) // cols\n",
    "        fig.append_trace(go.Scatter(\n",
    "            x=pd.DataFrame(ea.Scalars(item))['wall_time'],\n",
    "            y=pd.DataFrame(ea.Scalars(item))['value'],\n",
    "            name=item\n",
    "        ), row=row1, col=col1)\n",
    "\n",
    "    fig.update_layout(height=360*rows, width=450*cols, title_text=\"Episode_reward Subplots\")\n",
    "    fig.show()\n",
    "\n",
    "\n",
    "def plot_tensorflow_log_specific(path, scalar):\n",
    "    '''builds set of plots from a logfile'''\n",
    "    # Load the TB data\n",
    "    # files are large (200+ Mb, might take a while)\n",
    "    print('start import from tensorboard event')\n",
    "    ea = event_accumulator.EventAccumulator(path)\n",
    "    ea.Reload()  # loads events from file\n",
    "    ea.Tags()\n",
    "    print('import from tensorboard event done')\n",
    "\n",
    "    fig = go.Figure(go.Scatter(\n",
    "        x=pd.DataFrame(ea.Scalars(scalar))['wall_time'],\n",
    "        y=pd.DataFrame(ea.Scalars(scalar))['value'],\n",
    "        name=scalar\n",
    "    ))\n",
    "    fig.update_layout(height=900  , width=1800, title_text=scalar)\n",
    "    fig.show()\n",
    "\n",
    "\n",
    "if __name__ == \"__main__\":\n",
    "    parser = argparse.ArgumentParser()\n",
    "    parser.add_argument('-l', '--logdir', type=str, help='Logdir of the file to plot')\n",
    "    parser.add_argument('-t', '--type', type=int, help='how to plot 0 = all, 1 = specific plot scalar')\n",
    "    parser.add_argument('-s', '--scalar', type=str, help='Variable of the scalar that needs to be plotted')\n",
    "    args = parser.parse_args()\n",
    "\n",
    "    log_file = args.logdir\n",
    "    scalars = ['loss/entropy_loss',\n",
    " 'loss/policy_gradient_loss',\n",
    " 'loss/value_function_loss',\n",
    " 'loss/approximate_kullback-leibler',\n",
    " 'loss/clip_factor',\n",
    " 'loss/loss',\n",
    " 'input_info/discounted_rewards',\n",
    " 'input_info/learning_rate',\n",
    " 'input_info/advantage',\n",
    " 'input_info/clip_range',\n",
    " 'input_info/clip_range_vf',\n",
    " 'input_info/old_neglog_action_probabilty',\n",
    " 'input_info/old_value_pred',\n",
    " 'steps',\n",
    " 'amount_of_items_on_conv',\n",
    " 'amount_of_items_in_sys',\n",
    " 'remaining_demand',\n",
    " 'amount_of_orders_processed',\n",
    " 'positive_reward',\n",
    " 'cycle_count',\n",
    " 'run_count',\n",
    " 'episode_reward']\n",
    "\n",
    "    if args.type == 0:\n",
    "        plot_tensorflow_log(log_file)\n",
    "    elif args.type == 1:\n",
    "        if args.scalar in scalars:\n",
    "            plot_tensorflow_log_specific(log_file, args.scalar)\n",
    "        else:\n",
    "            print('Scalar not in set of possible scalars!')\n",
    "\n",
    "    else:\n",
    "        print('Type not allowed! select 0 for all plots, select 1 for specific plot + -s SCALARNAME')\n"
   ]
  },
  {
   "cell_type": "code",
   "execution_count": 3,
   "metadata": {},
   "outputs": [
    {
     "name": "stdout",
     "output_type": "stream",
     "text": [
      "Requirement already satisfied: plotly in c:\\users\\_vinc\\appdata\\local\\programs\\python\\python37\\lib\\site-packages (4.10.0)\n",
      "Requirement already satisfied: six in c:\\users\\_vinc\\appdata\\local\\programs\\python\\python37\\lib\\site-packages (from plotly) (1.12.0)\n",
      "Requirement already satisfied: retrying>=1.3.3 in c:\\users\\_vinc\\appdata\\local\\programs\\python\\python37\\lib\\site-packages (from plotly) (1.3.3)\n"
     ]
    },
    {
     "name": "stderr",
     "output_type": "stream",
     "text": [
      "WARNING: You are using pip version 20.1.1; however, version 20.2.3 is available.\n",
      "You should consider upgrading via the 'c:\\users\\_vinc\\appdata\\local\\programs\\python\\python37\\python.exe -m pip install --upgrade pip' command.\n"
     ]
    }
   ],
   "source": [
    "!pip install plotly"
   ]
  },
  {
   "cell_type": "code",
   "execution_count": 5,
   "metadata": {},
   "outputs": [
    {
     "ename": "NameError",
     "evalue": "name 'mypath' is not defined",
     "output_type": "error",
     "traceback": [
      "\u001b[1;31m---------------------------------------------------------------------------\u001b[0m",
      "\u001b[1;31mNameError\u001b[0m                                 Traceback (most recent call last)",
      "\u001b[1;32m<ipython-input-5-88b35248d7f9>\u001b[0m in \u001b[0;36m<module>\u001b[1;34m\u001b[0m\n\u001b[0;32m      1\u001b[0m \u001b[1;32mfrom\u001b[0m \u001b[0mos\u001b[0m \u001b[1;32mimport\u001b[0m \u001b[0mlistdir\u001b[0m\u001b[1;33m\u001b[0m\u001b[1;33m\u001b[0m\u001b[0m\n\u001b[0;32m      2\u001b[0m \u001b[1;32mfrom\u001b[0m \u001b[0mos\u001b[0m\u001b[1;33m.\u001b[0m\u001b[0mpath\u001b[0m \u001b[1;32mimport\u001b[0m \u001b[0misfile\u001b[0m\u001b[1;33m,\u001b[0m \u001b[0mjoin\u001b[0m\u001b[1;33m\u001b[0m\u001b[1;33m\u001b[0m\u001b[0m\n\u001b[1;32m----> 3\u001b[1;33m \u001b[0monlyfiles\u001b[0m \u001b[1;33m=\u001b[0m \u001b[1;33m[\u001b[0m\u001b[0mf\u001b[0m \u001b[1;32mfor\u001b[0m \u001b[0mf\u001b[0m \u001b[1;32min\u001b[0m \u001b[0mlistdir\u001b[0m\u001b[1;33m(\u001b[0m\u001b[0mmypath\u001b[0m\u001b[1;33m)\u001b[0m \u001b[1;32mif\u001b[0m \u001b[0misfile\u001b[0m\u001b[1;33m(\u001b[0m\u001b[0mjoin\u001b[0m\u001b[1;33m(\u001b[0m\u001b[0mmypath\u001b[0m\u001b[1;33m,\u001b[0m \u001b[0mf\u001b[0m\u001b[1;33m)\u001b[0m\u001b[1;33m)\u001b[0m\u001b[1;33m]\u001b[0m\u001b[1;33m\u001b[0m\u001b[1;33m\u001b[0m\u001b[0m\n\u001b[0m",
      "\u001b[1;31mNameError\u001b[0m: name 'mypath' is not defined"
     ]
    }
   ],
   "source": [
    "from os import listdir\n",
    "from os.path import isfile, join\n",
    "onlyfiles = [f for f in listdir(mypath) if isfile(join(mypath, f))]"
   ]
  },
  {
   "cell_type": "code",
   "execution_count": 14,
   "metadata": {},
   "outputs": [
    {
     "name": "stdout",
     "output_type": "stream",
     "text": [
      "D:\\Drive\\git\\RL\n"
     ]
    }
   ],
   "source": [
    "import pathlib\n",
    "import argparse\n",
    "path = pathlib.Path().absolute()\n",
    "from os import listdir\n",
    "from os.path import isfile, join\n",
    "print(path)"
   ]
  },
  {
   "cell_type": "code",
   "execution_count": 15,
   "metadata": {},
   "outputs": [
    {
     "name": "stderr",
     "output_type": "stream",
     "text": [
      "usage: ipykernel_launcher.py [-h] [-e ENVIRONEMENT] [-s SUBDIR]\n",
      "ipykernel_launcher.py: error: unrecognized arguments: -f C:\\Users\\_Vinc\\AppData\\Roaming\\jupyter\\runtime\\kernel-4e7a1323-e571-4f92-82fd-88153c16e0f4.json\n"
     ]
    },
    {
     "ename": "SystemExit",
     "evalue": "2",
     "output_type": "error",
     "traceback": [
      "An exception has occurred, use %tb to see the full traceback.\n",
      "\u001b[1;31mSystemExit\u001b[0m\u001b[1;31m:\u001b[0m 2\n"
     ]
    }
   ],
   "source": [
    "parser = argparse.ArgumentParser()\n",
    "parser.add_argument('-e', '--environement', type=str, help='Name of the environment')\n",
    "parser.add_argument('-s', '--subdir', type=str, help='Subdir to combine and analyze')\n",
    "args = parser.parse_args()\n",
    "\n",
    "\n",
    "\n",
    "path_to_trained_file = join(path, 'trained_models', 'iets')"
   ]
  },
  {
   "cell_type": "code",
   "execution_count": null,
   "metadata": {},
   "outputs": [],
   "source": []
  }
 ],
 "metadata": {
  "kernelspec": {
   "display_name": "Python 3",
   "language": "python",
   "name": "python3"
  },
  "language_info": {
   "codemirror_mode": {
    "name": "ipython",
    "version": 3
   },
   "file_extension": ".py",
   "mimetype": "text/x-python",
   "name": "python",
   "nbconvert_exporter": "python",
   "pygments_lexer": "ipython3",
   "version": "3.7.5"
  }
 },
 "nbformat": 4,
 "nbformat_minor": 2
}
