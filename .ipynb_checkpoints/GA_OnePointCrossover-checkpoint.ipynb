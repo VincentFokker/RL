{
 "cells": [
  {
   "cell_type": "markdown",
   "metadata": {},
   "source": [
    "# string GA - Hill climbing\n",
    "## With Round-robin / FiFo"
   ]
  },
  {
   "cell_type": "code",
   "execution_count": null,
   "metadata": {},
   "outputs": [
    {
     "name": "stderr",
     "output_type": "stream",
     "text": [
      "c:\\git\\venv\\lib\\site-packages\\ipykernel_launcher.py:41: YAMLLoadWarning:\n",
      "\n",
      "calling yaml.load() without Loader=... is deprecated, as the default Loader is unsafe. Please read https://msg.pyyaml.org/load for full details.\n",
      "\n"
     ]
    },
    {
     "name": "stdout",
     "output_type": "stream",
     "text": [
      "Ep:   886, steps: 479, R: 437.000577\r"
     ]
    }
   ],
   "source": [
    "import numpy as np\n",
    "from SC_v12 import simple_conveyor_2\n",
    "import yaml\n",
    "import random\n",
    "from copy import copy\n",
    "import time\n",
    "import plotly.express as px\n",
    "import statistics as sts\n",
    "\n",
    "def single_point_crossover(input_list):\n",
    "    \"\"\"Changes a string with one-point cross-over to a new string\"\"\"\n",
    "    new_list = copy(input_list)\n",
    "    i1 = random.randint(1,len(new_list)-1)\n",
    "    i2 = random.randint(1,len(new_list)-1)\n",
    "    t1 = new_list[i1]\n",
    "    t2 = new_list[i2]\n",
    "#     print('t1 = {} and t2 = {}'.format(t1,t2))\n",
    "    while t1 == t2:\n",
    "#         print('in while loop')\n",
    "        i1 = random.randint(1,len(new_list)-1)\n",
    "        i2 = random.randint(1,len(new_list)-1)\n",
    "        t1 = new_list[i1]\n",
    "        t2 = new_list[i2]\n",
    "#         print('t1 = {} and t2 = {}'.format(t1,t2))\n",
    "    new_list[i1] = t2\n",
    "    new_list[i2] = t1\n",
    "    return new_list\n",
    "\n",
    "def return_fitness(order_list):\n",
    "    \"\"\"\"Calculates the fitness of an order set\"\"\"\"\"\n",
    "    env.reset()\n",
    "    for item in order_list:\n",
    "        env.step(item)\n",
    "    while env.demand_queues != [[] * i for i in range(env.amount_of_gtps)]:\n",
    "        env.step(0) \n",
    "    return env.reward\n",
    "\n",
    "#### Initialize the sequence and the environment\n",
    "config_path = 'rl/config/simple_conveyor_2.yml'\n",
    "with open(config_path, 'r') as f:\n",
    "    config = yaml.load(f)\n",
    "    \n",
    "#queues = [random.choices(np.arange(1,config['environment']['amount_gtp']+1), [config['environment']['percentage_small_carriers'], config['environment']['percentage_medium_carriers'], config['environment']['percentage_large_carriers']], k=config['environment']['gtp_buffer_size']) for item in range(config['environment']['amount_gtp'])] # generate random queues\n",
    "queues = [[2, 3, 2, 1, 3, 2, 3, 3, 3, 2], [3, 2, 3, 2, 2, 3, 1, 2, 2, 3], [2, 2, 1, 2, 2, 3, 2, 3, 2, 3]]\n",
    "env = simple_conveyor_2(config, queues)\n",
    "\n",
    "\n",
    "#### build order list\n",
    "order_list = []\n",
    "for index in range(len(queues[0])):\n",
    "    order_list.append([item[index] for item in env.queues])\n",
    "\n",
    "order_list = [item for sublist in order_list for item in sublist]\n",
    "order_list = order_list + 3*len(order_list) * [0]\n",
    "\n",
    "\n",
    "#### Calculate best sequence\n",
    "fitness = []\n",
    "t = 0\n",
    "best_run = return_fitness(order_list)\n",
    "fitness.append(best_run)\n",
    "start = time.time()\n",
    "for i in range(100):\n",
    "    t+=1\n",
    "    new_order_list = single_point_crossover(order_list)\n",
    "    this_run = return_fitness(new_order_list)\n",
    "    if this_run > best_run:\n",
    "        order_list = new_order_list\n",
    "        best_run = this_run\n",
    "        print('Order list updated, best reward: {}'.format(best_run), end = '\\r')\n",
    "    fitness.append(best_run)\n",
    "    \n",
    "while sts.mean(fitness[-100:]) != max(fitness):\n",
    "    t+=1\n",
    "    new_order_list = single_point_crossover(order_list)\n",
    "    this_run = return_fitness(new_order_list)\n",
    "    if this_run > best_run:\n",
    "        order_list = new_order_list\n",
    "        best_run = this_run\n",
    "        print('Order list updated, best reward: {}'.format(best_run), end = '\\r')\n",
    "    fitness.append(best_run)\n",
    "delta = time.time() - start\n",
    "print('Running time: {} minutes'.format(delta/60))\n",
    "print('Best reward: {} \\n Resulting sequence of actions: \\n {}'.format(best_run, order_list))"
   ]
  },
  {
   "cell_type": "code",
   "execution_count": null,
   "metadata": {},
   "outputs": [],
   "source": [
    "# plot a figure with the reward over time\n",
    "fig = px.line(x=[i for i in range(len(fitness))], y=fitness, title='Reward')\n",
    "fig.show()"
   ]
  },
  {
   "cell_type": "code",
   "execution_count": null,
   "metadata": {},
   "outputs": [],
   "source": [
    "# and show the best one\n",
    "env.reset()\n",
    "for item in order_list:\n",
    "    env.step(item)\n",
    "    env.render()\n",
    "while env.demand_queues != [[] * i for i in range(env.amount_of_gtps)]:\n",
    "    env.step(0) \n",
    "    env.render()"
   ]
  },
  {
   "cell_type": "markdown",
   "metadata": {},
   "source": [
    "## With Random shuffle"
   ]
  },
  {
   "cell_type": "code",
   "execution_count": null,
   "metadata": {},
   "outputs": [],
   "source": [
    "import random\n",
    "\n",
    "#queues = [random.choices(np.arange(1,config['environment']['amount_gtp']+1), [config['environment']['percentage_small_carriers'], config['environment']['percentage_medium_carriers'], config['environment']['percentage_large_carriers']], k=config['environment']['gtp_buffer_size']) for item in range(config['environment']['amount_gtp'])] # generate random queues\n",
    "queues = [[2, 3, 2, 1, 3, 2, 3, 3, 3, 2], [3, 2, 3, 2, 2, 3, 1, 2, 2, 3], [2, 2, 1, 2, 2, 3, 2, 3, 2, 3]]\n",
    "env = simple_conveyor_2(config, queues)\n",
    "\n",
    "\n",
    "#### build order list\n",
    "order_list = [item for sublist in queues for item in sublist]\n",
    "order_list = order_list + 3*len(order_list) * [0]\n",
    "random.shuffle(order_list)\n",
    "\n",
    "\n",
    "#### Calculate best sequence\n",
    "fitness = []\n",
    "t = 0\n",
    "best_run = return_fitness(order_list)\n",
    "fitness.append(best_run)\n",
    "start = time.time()\n",
    "for i in range(1000):\n",
    "    t+=1\n",
    "    new_order_list = single_point_crossover(order_list)\n",
    "    this_run = return_fitness(new_order_list)\n",
    "    if this_run > best_run:\n",
    "        order_list = new_order_list\n",
    "        best_run = this_run\n",
    "        print('Order list updated, best reward: {}'.format(best_run), end = '\\r')\n",
    "    fitness.append(best_run)\n",
    "    \n",
    "while sts.mean(fitness[-1000:]) != max(fitness):\n",
    "    t+=1\n",
    "    new_order_list = single_point_crossover(order_list)\n",
    "    this_run = return_fitness(new_order_list)\n",
    "    if this_run > best_run:\n",
    "        order_list = new_order_list\n",
    "        best_run = this_run\n",
    "        print('Order list updated, best reward: {}'.format(best_run), end = '\\r')\n",
    "    fitness.append(best_run)\n",
    "delta = time.time() - start\n",
    "print('Running time: {} minutes'.format(delta/60))\n",
    "print('Best reward: {} \\n Resulting sequence of actions: \\n {}'.format(best_run, order_list))"
   ]
  },
  {
   "cell_type": "code",
   "execution_count": null,
   "metadata": {},
   "outputs": [],
   "source": [
    "# plot a figure with the reward over time\n",
    "fig = px.line(x=[i for i in range(len(fitness))], y=fitness, title='Reward')\n",
    "fig.show()"
   ]
  },
  {
   "cell_type": "markdown",
   "metadata": {},
   "source": [
    "# Random restart + Hill climbing"
   ]
  },
  {
   "cell_type": "code",
   "execution_count": null,
   "metadata": {},
   "outputs": [],
   "source": []
  },
  {
   "cell_type": "markdown",
   "metadata": {},
   "source": [
    "# Tabu Search: hill climbing by local search"
   ]
  },
  {
   "cell_type": "code",
   "execution_count": null,
   "metadata": {},
   "outputs": [],
   "source": []
  },
  {
   "cell_type": "code",
   "execution_count": null,
   "metadata": {},
   "outputs": [],
   "source": []
  },
  {
   "cell_type": "markdown",
   "metadata": {},
   "source": [
    "# Other"
   ]
  },
  {
   "cell_type": "code",
   "execution_count": 12,
   "metadata": {},
   "outputs": [],
   "source": [
    "order_list = []\n",
    "for index in range(len(queues[0])):\n",
    "    order_list.append([item[index] for item in env.queues])\n",
    "\n",
    "#flat_list = [item for sublist in l for item in sublist]\n",
    "order_list = [item for sublist in order_list for item in sublist]\n",
    "#print(order_list)\n",
    "order_list = order_list + 2*len(order_list) * [0]\n",
    "#print(order_list)"
   ]
  },
  {
   "cell_type": "code",
   "execution_count": 13,
   "metadata": {},
   "outputs": [
    {
     "name": "stdout",
     "output_type": "stream",
     "text": [
      "Running time: 7.839385946591695 minutes\n",
      "Best reward: 468 \n",
      " Resulting sequence of actions: \n",
      " [2, 2, 2, 3, 3, 2, 0, 3, 0, 3, 1, 2, 0, 2, 3, 0, 2, 2, 2, 0, 0, 1, 2, 2, 2, 0, 3, 2, 3, 2, 0, 0, 0, 0, 0, 0, 0, 0, 1, 0, 0, 0, 0, 0, 3, 0, 0, 0, 0, 0, 0, 0, 0, 0, 0, 0, 0, 0, 0, 0, 0, 0, 2, 0, 0, 0, 0, 0, 0, 0, 0, 0, 0, 0, 0, 0, 3, 0, 0, 0, 0, 3, 0, 0, 0, 0, 2, 0, 0, 2]\n"
     ]
    }
   ],
   "source": [
    "import time\n",
    "fitness = []\n",
    "t = 0\n",
    "best_run = return_fitness(order_list)\n",
    "start = time.time()\n",
    "for i in range(1000):\n",
    "    t+=1\n",
    "    new_order_list = single_point_crossover(order_list)\n",
    "    this_run = return_fitness(new_order_list)\n",
    "    if this_run > best_run:\n",
    "        order_list = new_order_list\n",
    "        best_run = this_run\n",
    "        print('Order list updated, best reward: {}'.format(best_run), end = '\\r')\n",
    "        fitness.append([t, best_run])\n",
    "delta = time.time() - start\n",
    "print('Running time: {} minutes'.format(delta/60))\n",
    "print('Best reward: {} \\n Resulting sequence of actions: \\n {}'.format(best_run, order_list))"
   ]
  },
  {
   "cell_type": "code",
   "execution_count": 67,
   "metadata": {},
   "outputs": [],
   "source": [
    "import numpy as np\n",
    "from SC_v12 import simple_conveyor_2\n",
    "import yaml\n",
    "import random\n",
    "from copy import copy\n",
    "\n",
    "\n",
    "def single_point_crossover(input_list):\n",
    "    \"\"\"Changes a string with one-point cross-over to a new string\"\"\"\n",
    "    new_list = copy(input_list)\n",
    "    i1 = random.randint(1,len(new_list)-1)\n",
    "    i2 = random.randint(1,len(new_list)-1)\n",
    "    t1 = new_list[i1]\n",
    "    t2 = new_list[i2]\n",
    "    print('t1 = {} and t2 = {}'.format(t1,t2))\n",
    "    while t1 == t2:\n",
    "        print('in while loop')\n",
    "        i1 = random.randint(1,len(new_list)-1)\n",
    "        i2 = random.randint(1,len(new_list)-1)\n",
    "        t1 = new_list[i1]\n",
    "        t2 = new_list[i2]\n",
    "        print('t1 = {} and t2 = {}'.format(t1,t2))\n",
    "    new_list[i1] = t2\n",
    "    new_list[i2] = t1\n",
    "    return new_list\n",
    "\n",
    "order_list = [1, 1, 1, 0, 0, 0, 0, 0, 0, 0]"
   ]
  },
  {
   "cell_type": "code",
   "execution_count": 74,
   "metadata": {},
   "outputs": [
    {
     "name": "stdout",
     "output_type": "stream",
     "text": [
      "[1, 1, 1, 0, 0, 0, 0, 0, 0, 0]\n"
     ]
    }
   ],
   "source": [
    "print(order_list)"
   ]
  },
  {
   "cell_type": "code",
   "execution_count": 73,
   "metadata": {},
   "outputs": [
    {
     "name": "stdout",
     "output_type": "stream",
     "text": [
      "t1 = 1 and t2 = 0\n",
      "[1, 0, 1, 0, 0, 0, 0, 1, 0, 0]\n"
     ]
    }
   ],
   "source": [
    "print(single_point_crossover(order_list))"
   ]
  },
  {
   "cell_type": "code",
   "execution_count": 5,
   "metadata": {},
   "outputs": [
    {
     "name": "stderr",
     "output_type": "stream",
     "text": [
      "INFO:root:setup used: [[2, 3, 2, 1, 3, 2, 3, 3, 3, 2], [3, 2, 3, 2, 2, 3, 1, 2, 2, 3], [2, 2, 1, 2, 2, 3, 2, 3, 2, 3]]\n"
     ]
    },
    {
     "name": "stdout",
     "output_type": "stream",
     "text": [
      "Ep:     2, steps: 479, R: 297.000\r"
     ]
    },
    {
     "data": {
      "text/plain": [
       "297"
      ]
     },
     "execution_count": 5,
     "metadata": {},
     "output_type": "execute_result"
    }
   ],
   "source": [
    "def return_fitness(order_list):\n",
    "\"\"\"\"Calculates the fitness of an order set\"\"\"\"\"\n",
    "    env.reset()\n",
    "    for item in order_list:\n",
    "        env.step(item)\n",
    "    while env.demand_queues != [[] * i for i in range(env.amount_of_gtps)]:\n",
    "        env.step(0) \n",
    "    return env.reward"
   ]
  },
  {
   "cell_type": "code",
   "execution_count": 9,
   "metadata": {},
   "outputs": [
    {
     "data": {
      "text/plain": [
       "-340"
      ]
     },
     "execution_count": 9,
     "metadata": {},
     "output_type": "execute_result"
    }
   ],
   "source": [
    "env.negative_reward"
   ]
  },
  {
   "cell_type": "code",
   "execution_count": null,
   "metadata": {},
   "outputs": [
    {
     "name": "stderr",
     "output_type": "stream",
     "text": [
      "INFO:root:0\n"
     ]
    },
    {
     "name": "stdout",
     "output_type": "stream",
     "text": [
      "Ep:     1, steps:   0, R: 0.000\r"
     ]
    },
    {
     "name": "stderr",
     "output_type": "stream",
     "text": [
      "INFO:root:0\n",
      "INFO:root:0\n",
      "INFO:root:0\n",
      "INFO:root:0\n",
      "INFO:root:0\n",
      "INFO:root:0\n",
      "INFO:root:0\n",
      "INFO:root:0\n",
      "INFO:root:0\n",
      "INFO:root:0\n",
      "INFO:root:0\n",
      "INFO:root:0\n",
      "INFO:root:0\n",
      "INFO:root:0\n",
      "INFO:root:0\n",
      "INFO:root:0\n",
      "INFO:root:0\n",
      "INFO:root:0\n",
      "INFO:root:0\n",
      "INFO:root:0\n",
      "INFO:root:0\n"
     ]
    }
   ],
   "source": [
    "env.reset()\n",
    "for item in order_list:\n",
    "    env.step(item)\n",
    "    env.render()\n",
    "while env.demand_queues != [[] * i for i in range(env.amount_of_gtps)]:\n",
    "    env.step(0) \n",
    "    env.render()\n",
    "env.negative_reward"
   ]
  },
  {
   "cell_type": "code",
   "execution_count": null,
   "metadata": {},
   "outputs": [],
   "source": []
  }
 ],
 "metadata": {
  "kernelspec": {
   "display_name": "Python 3",
   "language": "python",
   "name": "python3"
  },
  "language_info": {
   "codemirror_mode": {
    "name": "ipython",
    "version": 3
   },
   "file_extension": ".py",
   "mimetype": "text/x-python",
   "name": "python",
   "nbconvert_exporter": "python",
   "pygments_lexer": "ipython3",
   "version": "3.6.8"
  }
 },
 "nbformat": 4,
 "nbformat_minor": 4
}
