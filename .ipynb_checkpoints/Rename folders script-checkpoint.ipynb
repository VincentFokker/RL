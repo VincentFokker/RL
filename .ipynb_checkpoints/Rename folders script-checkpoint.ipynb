{
 "cells": [
  {
   "cell_type": "code",
   "execution_count": null,
   "metadata": {},
   "outputs": [],
   "source": [
    "from os import listdir, walk\n",
    "from os.path import join, isfile\n",
    "path = pathlib.Path().absolute()\n",
    "import os\n",
    "\n",
    "locations = [['ConveyorEnv','20210107_0100']#,\n",
    "#              ['ConveyorEnv','20210107_1400'],\n",
    "#              ['ConveyorEnv','20210107_1500'],\n",
    "#              ['ConveyorEnv','20210108_0000'],\n",
    "#              ['ConveyorEnv','20210108_0100']\n",
    "            ]\n",
    "for environment, subdir in locations:\n",
    "    specpath = join(path, 'rl', 'trained_models', environment, subdir)\n",
    "    subfolders = [x[0] for x in walk(specpath)][1:]\n",
    "    split_folders = [item.split('_') for item in subfolders]\n",
    "    split_folders2 = [ folder[:-1] +['0{}'.format(folder[-1])] if len(folder[-1]) ==1 else folder for folder in split_folders]\n",
    "    subfolders2 = ['_'.join(folders) for folders in split_folders2]\n",
    "    subfolders2\n",
    "    for idx, folder in enumerate(subfolders):\n",
    "        os.rename(folder, subfolders2[idx])"
   ]
  }
 ],
 "metadata": {
  "kernelspec": {
   "display_name": "venv-th",
   "language": "python",
   "name": "venv-th"
  },
  "language_info": {
   "codemirror_mode": {
    "name": "ipython",
    "version": 3
   },
   "file_extension": ".py",
   "mimetype": "text/x-python",
   "name": "python",
   "nbconvert_exporter": "python",
   "pygments_lexer": "ipython3",
   "version": "3.7.5"
  }
 },
 "nbformat": 4,
 "nbformat_minor": 4
}
