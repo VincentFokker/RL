{
 "cells": [
  {
   "cell_type": "code",
   "execution_count": 5,
   "metadata": {},
   "outputs": [
    {
     "name": "stderr",
     "output_type": "stream",
     "text": [
      "c:\\users\\_vinc\\appdata\\local\\programs\\python\\python37\\lib\\site-packages\\ipykernel_launcher.py:8: YAMLLoadWarning: calling yaml.load() without Loader=... is deprecated, as the default Loader is unsafe. Please read https://msg.pyyaml.org/load for full details.\n",
      "  \n",
      "INFO:root:queues that are initialized: [[2, 3, 3, 2, 2, 2, 2, 2, 3, 3], [3, 2, 2, 2, 3, 2, 3, 2, 2, 2], [3, 2, 3, 3, 3, 2, 2, 2, 2, 3]]\n"
     ]
    }
   ],
   "source": [
    "from rl.environments.simple_conveyor_9 import simple_conveyor_9\n",
    "import yaml\n",
    "import ray\n",
    "from ray import tune\n",
    "\n",
    "config_path = 'rl/config/simple_conveyor_9.yml'\n",
    "with open(config_path, 'r') as f:\n",
    "    config = yaml.load(f)\n",
    "env = simple_conveyor_9(config)"
   ]
  },
  {
   "cell_type": "code",
   "execution_count": 6,
   "metadata": {},
   "outputs": [
    {
     "name": "stderr",
     "output_type": "stream",
     "text": [
      "2020-10-01 11:30:59,712\tERROR worker.py:643 -- Calling ray.init() again after it has already been called.\n"
     ]
    },
    {
     "ename": "ModuleNotFoundError",
     "evalue": "No module named 'tree'",
     "output_type": "error",
     "traceback": [
      "\u001b[1;31m---------------------------------------------------------------------------\u001b[0m",
      "\u001b[1;31mModuleNotFoundError\u001b[0m                       Traceback (most recent call last)",
      "\u001b[1;32m<ipython-input-6-16d21586ef5e>\u001b[0m in \u001b[0;36m<module>\u001b[1;34m\u001b[0m\n\u001b[0;32m      9\u001b[0m     \u001b[1;34m'PPO'\u001b[0m\u001b[1;33m,\u001b[0m \u001b[1;31m# Specify the algorithm to train\u001b[0m\u001b[1;33m\u001b[0m\u001b[1;33m\u001b[0m\u001b[0m\n\u001b[0;32m     10\u001b[0m     \u001b[0mconfig\u001b[0m\u001b[1;33m=\u001b[0m\u001b[0mconfig\u001b[0m\u001b[1;33m,\u001b[0m\u001b[1;33m\u001b[0m\u001b[1;33m\u001b[0m\u001b[0m\n\u001b[1;32m---> 11\u001b[1;33m     \u001b[0mstop\u001b[0m\u001b[1;33m=\u001b[0m\u001b[0mstop\u001b[0m\u001b[1;33m\u001b[0m\u001b[1;33m\u001b[0m\u001b[0m\n\u001b[0m\u001b[0;32m     12\u001b[0m )\n",
      "\u001b[1;32mc:\\users\\_vinc\\appdata\\local\\programs\\python\\python37\\lib\\site-packages\\ray\\tune\\tune.py\u001b[0m in \u001b[0;36mrun\u001b[1;34m(run_or_experiment, name, metric, mode, stop, time_budget_s, config, resources_per_trial, num_samples, local_dir, search_alg, scheduler, keep_checkpoints_num, checkpoint_score_attr, checkpoint_freq, checkpoint_at_end, verbose, progress_reporter, loggers, log_to_file, trial_name_creator, trial_dirname_creator, sync_config, export_formats, max_failures, fail_fast, restore, server_port, resume, queue_trials, reuse_actors, trial_executor, raise_on_failed_trial, ray_auto_init, run_errored_only, global_checkpoint_period, with_server, upload_dir, sync_to_cloud, sync_to_driver, sync_on_checkpoint)\u001b[0m\n\u001b[0;32m    324\u001b[0m                 \u001b[0mexport_formats\u001b[0m\u001b[1;33m=\u001b[0m\u001b[0mexport_formats\u001b[0m\u001b[1;33m,\u001b[0m\u001b[1;33m\u001b[0m\u001b[1;33m\u001b[0m\u001b[0m\n\u001b[0;32m    325\u001b[0m                 \u001b[0mmax_failures\u001b[0m\u001b[1;33m=\u001b[0m\u001b[0mmax_failures\u001b[0m\u001b[1;33m,\u001b[0m\u001b[1;33m\u001b[0m\u001b[1;33m\u001b[0m\u001b[0m\n\u001b[1;32m--> 326\u001b[1;33m                 restore=restore)\n\u001b[0m\u001b[0;32m    327\u001b[0m     \u001b[1;32melse\u001b[0m\u001b[1;33m:\u001b[0m\u001b[1;33m\u001b[0m\u001b[1;33m\u001b[0m\u001b[0m\n\u001b[0;32m    328\u001b[0m         \u001b[0mlogger\u001b[0m\u001b[1;33m.\u001b[0m\u001b[0mdebug\u001b[0m\u001b[1;33m(\u001b[0m\u001b[1;34m\"Ignoring some parameters passed into tune.run.\"\u001b[0m\u001b[1;33m)\u001b[0m\u001b[1;33m\u001b[0m\u001b[1;33m\u001b[0m\u001b[0m\n",
      "\u001b[1;32mc:\\users\\_vinc\\appdata\\local\\programs\\python\\python37\\lib\\site-packages\\ray\\tune\\experiment.py\u001b[0m in \u001b[0;36m__init__\u001b[1;34m(self, name, run, stop, time_budget_s, config, resources_per_trial, num_samples, local_dir, upload_dir, trial_name_creator, trial_dirname_creator, loggers, log_to_file, sync_to_driver, checkpoint_freq, checkpoint_at_end, sync_on_checkpoint, keep_checkpoints_num, checkpoint_score_attr, export_formats, max_failures, restore)\u001b[0m\n\u001b[0;32m    169\u001b[0m                 \u001b[0mself\u001b[0m\u001b[1;33m.\u001b[0m\u001b[0m_stopper\u001b[0m \u001b[1;33m=\u001b[0m \u001b[0mTimeoutStopper\u001b[0m\u001b[1;33m(\u001b[0m\u001b[0mtime_budget_s\u001b[0m\u001b[1;33m)\u001b[0m\u001b[1;33m\u001b[0m\u001b[1;33m\u001b[0m\u001b[0m\n\u001b[0;32m    170\u001b[0m \u001b[1;33m\u001b[0m\u001b[0m\n\u001b[1;32m--> 171\u001b[1;33m         \u001b[0m_raise_on_durable\u001b[0m\u001b[1;33m(\u001b[0m\u001b[0mself\u001b[0m\u001b[1;33m.\u001b[0m\u001b[0m_run_identifier\u001b[0m\u001b[1;33m,\u001b[0m \u001b[0msync_to_driver\u001b[0m\u001b[1;33m,\u001b[0m \u001b[0mupload_dir\u001b[0m\u001b[1;33m)\u001b[0m\u001b[1;33m\u001b[0m\u001b[1;33m\u001b[0m\u001b[0m\n\u001b[0m\u001b[0;32m    172\u001b[0m \u001b[1;33m\u001b[0m\u001b[0m\n\u001b[0;32m    173\u001b[0m         \u001b[0mstdout_file\u001b[0m\u001b[1;33m,\u001b[0m \u001b[0mstderr_file\u001b[0m \u001b[1;33m=\u001b[0m \u001b[0m_validate_log_to_file\u001b[0m\u001b[1;33m(\u001b[0m\u001b[0mlog_to_file\u001b[0m\u001b[1;33m)\u001b[0m\u001b[1;33m\u001b[0m\u001b[1;33m\u001b[0m\u001b[0m\n",
      "\u001b[1;32mc:\\users\\_vinc\\appdata\\local\\programs\\python\\python37\\lib\\site-packages\\ray\\tune\\experiment.py\u001b[0m in \u001b[0;36m_raise_on_durable\u001b[1;34m(trainable_name, sync_to_driver, upload_dir)\u001b[0m\n\u001b[0;32m     34\u001b[0m \u001b[1;33m\u001b[0m\u001b[0m\n\u001b[0;32m     35\u001b[0m \u001b[1;32mdef\u001b[0m \u001b[0m_raise_on_durable\u001b[0m\u001b[1;33m(\u001b[0m\u001b[0mtrainable_name\u001b[0m\u001b[1;33m,\u001b[0m \u001b[0msync_to_driver\u001b[0m\u001b[1;33m,\u001b[0m \u001b[0mupload_dir\u001b[0m\u001b[1;33m)\u001b[0m\u001b[1;33m:\u001b[0m\u001b[1;33m\u001b[0m\u001b[1;33m\u001b[0m\u001b[0m\n\u001b[1;32m---> 36\u001b[1;33m     \u001b[0mtrainable_cls\u001b[0m \u001b[1;33m=\u001b[0m \u001b[0mget_trainable_cls\u001b[0m\u001b[1;33m(\u001b[0m\u001b[0mtrainable_name\u001b[0m\u001b[1;33m)\u001b[0m\u001b[1;33m\u001b[0m\u001b[1;33m\u001b[0m\u001b[0m\n\u001b[0m\u001b[0;32m     37\u001b[0m     \u001b[1;32mfrom\u001b[0m \u001b[0mray\u001b[0m\u001b[1;33m.\u001b[0m\u001b[0mtune\u001b[0m\u001b[1;33m.\u001b[0m\u001b[0mdurable_trainable\u001b[0m \u001b[1;32mimport\u001b[0m \u001b[0mDurableTrainable\u001b[0m\u001b[1;33m\u001b[0m\u001b[1;33m\u001b[0m\u001b[0m\n\u001b[0;32m     38\u001b[0m     \u001b[1;32mif\u001b[0m \u001b[0missubclass\u001b[0m\u001b[1;33m(\u001b[0m\u001b[0mtrainable_cls\u001b[0m\u001b[1;33m,\u001b[0m \u001b[0mDurableTrainable\u001b[0m\u001b[1;33m)\u001b[0m\u001b[1;33m:\u001b[0m\u001b[1;33m\u001b[0m\u001b[1;33m\u001b[0m\u001b[0m\n",
      "\u001b[1;32mc:\\users\\_vinc\\appdata\\local\\programs\\python\\python37\\lib\\site-packages\\ray\\tune\\registry.py\u001b[0m in \u001b[0;36mget_trainable_cls\u001b[1;34m(trainable_name)\u001b[0m\n\u001b[0;32m     27\u001b[0m \u001b[1;33m\u001b[0m\u001b[0m\n\u001b[0;32m     28\u001b[0m \u001b[1;32mdef\u001b[0m \u001b[0mget_trainable_cls\u001b[0m\u001b[1;33m(\u001b[0m\u001b[0mtrainable_name\u001b[0m\u001b[1;33m)\u001b[0m\u001b[1;33m:\u001b[0m\u001b[1;33m\u001b[0m\u001b[1;33m\u001b[0m\u001b[0m\n\u001b[1;32m---> 29\u001b[1;33m     \u001b[0mvalidate_trainable\u001b[0m\u001b[1;33m(\u001b[0m\u001b[0mtrainable_name\u001b[0m\u001b[1;33m)\u001b[0m\u001b[1;33m\u001b[0m\u001b[1;33m\u001b[0m\u001b[0m\n\u001b[0m\u001b[0;32m     30\u001b[0m     \u001b[1;32mreturn\u001b[0m \u001b[0m_global_registry\u001b[0m\u001b[1;33m.\u001b[0m\u001b[0mget\u001b[0m\u001b[1;33m(\u001b[0m\u001b[0mTRAINABLE_CLASS\u001b[0m\u001b[1;33m,\u001b[0m \u001b[0mtrainable_name\u001b[0m\u001b[1;33m)\u001b[0m\u001b[1;33m\u001b[0m\u001b[1;33m\u001b[0m\u001b[0m\n\u001b[0;32m     31\u001b[0m \u001b[1;33m\u001b[0m\u001b[0m\n",
      "\u001b[1;32mc:\\users\\_vinc\\appdata\\local\\programs\\python\\python37\\lib\\site-packages\\ray\\tune\\registry.py\u001b[0m in \u001b[0;36mvalidate_trainable\u001b[1;34m(trainable_name)\u001b[0m\n\u001b[0;32m     34\u001b[0m     \u001b[1;32mif\u001b[0m \u001b[1;32mnot\u001b[0m \u001b[0mhas_trainable\u001b[0m\u001b[1;33m(\u001b[0m\u001b[0mtrainable_name\u001b[0m\u001b[1;33m)\u001b[0m\u001b[1;33m:\u001b[0m\u001b[1;33m\u001b[0m\u001b[1;33m\u001b[0m\u001b[0m\n\u001b[0;32m     35\u001b[0m         \u001b[1;31m# Make sure everything rllib-related is registered.\u001b[0m\u001b[1;33m\u001b[0m\u001b[1;33m\u001b[0m\u001b[1;33m\u001b[0m\u001b[0m\n\u001b[1;32m---> 36\u001b[1;33m         \u001b[1;32mfrom\u001b[0m \u001b[0mray\u001b[0m\u001b[1;33m.\u001b[0m\u001b[0mrllib\u001b[0m \u001b[1;32mimport\u001b[0m \u001b[0m_register_all\u001b[0m\u001b[1;33m\u001b[0m\u001b[1;33m\u001b[0m\u001b[0m\n\u001b[0m\u001b[0;32m     37\u001b[0m         \u001b[0m_register_all\u001b[0m\u001b[1;33m(\u001b[0m\u001b[1;33m)\u001b[0m\u001b[1;33m\u001b[0m\u001b[1;33m\u001b[0m\u001b[0m\n\u001b[0;32m     38\u001b[0m         \u001b[1;32mif\u001b[0m \u001b[1;32mnot\u001b[0m \u001b[0mhas_trainable\u001b[0m\u001b[1;33m(\u001b[0m\u001b[0mtrainable_name\u001b[0m\u001b[1;33m)\u001b[0m\u001b[1;33m:\u001b[0m\u001b[1;33m\u001b[0m\u001b[1;33m\u001b[0m\u001b[0m\n",
      "\u001b[1;32mc:\\users\\_vinc\\appdata\\local\\programs\\python\\python37\\lib\\site-packages\\ray\\rllib\\__init__.py\u001b[0m in \u001b[0;36m<module>\u001b[1;34m\u001b[0m\n\u001b[0;32m      3\u001b[0m \u001b[1;31m# Note: do not introduce unnecessary library dependencies here, e.g. gym.\u001b[0m\u001b[1;33m\u001b[0m\u001b[1;33m\u001b[0m\u001b[1;33m\u001b[0m\u001b[0m\n\u001b[0;32m      4\u001b[0m \u001b[1;31m# This file is imported from the tune module in order to register RLlib agents.\u001b[0m\u001b[1;33m\u001b[0m\u001b[1;33m\u001b[0m\u001b[1;33m\u001b[0m\u001b[0m\n\u001b[1;32m----> 5\u001b[1;33m \u001b[1;32mfrom\u001b[0m \u001b[0mray\u001b[0m\u001b[1;33m.\u001b[0m\u001b[0mrllib\u001b[0m\u001b[1;33m.\u001b[0m\u001b[0menv\u001b[0m\u001b[1;33m.\u001b[0m\u001b[0mbase_env\u001b[0m \u001b[1;32mimport\u001b[0m \u001b[0mBaseEnv\u001b[0m\u001b[1;33m\u001b[0m\u001b[1;33m\u001b[0m\u001b[0m\n\u001b[0m\u001b[0;32m      6\u001b[0m \u001b[1;32mfrom\u001b[0m \u001b[0mray\u001b[0m\u001b[1;33m.\u001b[0m\u001b[0mrllib\u001b[0m\u001b[1;33m.\u001b[0m\u001b[0menv\u001b[0m\u001b[1;33m.\u001b[0m\u001b[0mexternal_env\u001b[0m \u001b[1;32mimport\u001b[0m \u001b[0mExternalEnv\u001b[0m\u001b[1;33m\u001b[0m\u001b[1;33m\u001b[0m\u001b[0m\n\u001b[0;32m      7\u001b[0m \u001b[1;32mfrom\u001b[0m \u001b[0mray\u001b[0m\u001b[1;33m.\u001b[0m\u001b[0mrllib\u001b[0m\u001b[1;33m.\u001b[0m\u001b[0menv\u001b[0m\u001b[1;33m.\u001b[0m\u001b[0mmulti_agent_env\u001b[0m \u001b[1;32mimport\u001b[0m \u001b[0mMultiAgentEnv\u001b[0m\u001b[1;33m\u001b[0m\u001b[1;33m\u001b[0m\u001b[0m\n",
      "\u001b[1;32mc:\\users\\_vinc\\appdata\\local\\programs\\python\\python37\\lib\\site-packages\\ray\\rllib\\env\\__init__.py\u001b[0m in \u001b[0;36m<module>\u001b[1;34m\u001b[0m\n\u001b[0;32m      9\u001b[0m \u001b[1;32mfrom\u001b[0m \u001b[0mray\u001b[0m\u001b[1;33m.\u001b[0m\u001b[0mrllib\u001b[0m\u001b[1;33m.\u001b[0m\u001b[0menv\u001b[0m\u001b[1;33m.\u001b[0m\u001b[0mvector_env\u001b[0m \u001b[1;32mimport\u001b[0m \u001b[0mVectorEnv\u001b[0m\u001b[1;33m\u001b[0m\u001b[1;33m\u001b[0m\u001b[0m\n\u001b[0;32m     10\u001b[0m \u001b[1;32mfrom\u001b[0m \u001b[0mray\u001b[0m\u001b[1;33m.\u001b[0m\u001b[0mrllib\u001b[0m\u001b[1;33m.\u001b[0m\u001b[0menv\u001b[0m\u001b[1;33m.\u001b[0m\u001b[0menv_context\u001b[0m \u001b[1;32mimport\u001b[0m \u001b[0mEnvContext\u001b[0m\u001b[1;33m\u001b[0m\u001b[1;33m\u001b[0m\u001b[0m\n\u001b[1;32m---> 11\u001b[1;33m \u001b[1;32mfrom\u001b[0m \u001b[0mray\u001b[0m\u001b[1;33m.\u001b[0m\u001b[0mrllib\u001b[0m\u001b[1;33m.\u001b[0m\u001b[0menv\u001b[0m\u001b[1;33m.\u001b[0m\u001b[0mpolicy_client\u001b[0m \u001b[1;32mimport\u001b[0m \u001b[0mPolicyClient\u001b[0m\u001b[1;33m\u001b[0m\u001b[1;33m\u001b[0m\u001b[0m\n\u001b[0m\u001b[0;32m     12\u001b[0m \u001b[1;32mfrom\u001b[0m \u001b[0mray\u001b[0m\u001b[1;33m.\u001b[0m\u001b[0mrllib\u001b[0m\u001b[1;33m.\u001b[0m\u001b[0menv\u001b[0m\u001b[1;33m.\u001b[0m\u001b[0mpolicy_server_input\u001b[0m \u001b[1;32mimport\u001b[0m \u001b[0mPolicyServerInput\u001b[0m\u001b[1;33m\u001b[0m\u001b[1;33m\u001b[0m\u001b[0m\n\u001b[0;32m     13\u001b[0m \u001b[1;33m\u001b[0m\u001b[0m\n",
      "\u001b[1;32mc:\\users\\_vinc\\appdata\\local\\programs\\python\\python37\\lib\\site-packages\\ray\\rllib\\env\\policy_client.py\u001b[0m in \u001b[0;36m<module>\u001b[1;34m\u001b[0m\n\u001b[0;32m     12\u001b[0m \u001b[1;32mimport\u001b[0m \u001b[0mray\u001b[0m\u001b[1;33m.\u001b[0m\u001b[0mcloudpickle\u001b[0m \u001b[1;32mas\u001b[0m \u001b[0mpickle\u001b[0m\u001b[1;33m\u001b[0m\u001b[1;33m\u001b[0m\u001b[0m\n\u001b[0;32m     13\u001b[0m \u001b[1;32mfrom\u001b[0m \u001b[0mray\u001b[0m\u001b[1;33m.\u001b[0m\u001b[0mrllib\u001b[0m\u001b[1;33m.\u001b[0m\u001b[0menv\u001b[0m \u001b[1;32mimport\u001b[0m \u001b[0mExternalEnv\u001b[0m\u001b[1;33m,\u001b[0m \u001b[0mMultiAgentEnv\u001b[0m\u001b[1;33m,\u001b[0m \u001b[0mExternalMultiAgentEnv\u001b[0m\u001b[1;33m\u001b[0m\u001b[1;33m\u001b[0m\u001b[0m\n\u001b[1;32m---> 14\u001b[1;33m \u001b[1;32mfrom\u001b[0m \u001b[0mray\u001b[0m\u001b[1;33m.\u001b[0m\u001b[0mrllib\u001b[0m\u001b[1;33m.\u001b[0m\u001b[0mpolicy\u001b[0m\u001b[1;33m.\u001b[0m\u001b[0msample_batch\u001b[0m \u001b[1;32mimport\u001b[0m \u001b[0mMultiAgentBatch\u001b[0m\u001b[1;33m\u001b[0m\u001b[1;33m\u001b[0m\u001b[0m\n\u001b[0m\u001b[0;32m     15\u001b[0m \u001b[1;32mfrom\u001b[0m \u001b[0mray\u001b[0m\u001b[1;33m.\u001b[0m\u001b[0mrllib\u001b[0m\u001b[1;33m.\u001b[0m\u001b[0mutils\u001b[0m\u001b[1;33m.\u001b[0m\u001b[0mannotations\u001b[0m \u001b[1;32mimport\u001b[0m \u001b[0mPublicAPI\u001b[0m\u001b[1;33m\u001b[0m\u001b[1;33m\u001b[0m\u001b[0m\n\u001b[0;32m     16\u001b[0m \u001b[1;32mfrom\u001b[0m \u001b[0mray\u001b[0m\u001b[1;33m.\u001b[0m\u001b[0mrllib\u001b[0m\u001b[1;33m.\u001b[0m\u001b[0mutils\u001b[0m\u001b[1;33m.\u001b[0m\u001b[0mtyping\u001b[0m \u001b[1;32mimport\u001b[0m \u001b[0mMultiAgentDict\u001b[0m\u001b[1;33m,\u001b[0m \u001b[0mEnvInfoDict\u001b[0m\u001b[1;33m,\u001b[0m \u001b[0mEnvObsType\u001b[0m\u001b[1;33m,\u001b[0m\u001b[0;31m \u001b[0m\u001b[0;31m\\\u001b[0m\u001b[1;33m\u001b[0m\u001b[1;33m\u001b[0m\u001b[0m\n",
      "\u001b[1;32mc:\\users\\_vinc\\appdata\\local\\programs\\python\\python37\\lib\\site-packages\\ray\\rllib\\policy\\__init__.py\u001b[0m in \u001b[0;36m<module>\u001b[1;34m\u001b[0m\n\u001b[1;32m----> 1\u001b[1;33m \u001b[1;32mfrom\u001b[0m \u001b[0mray\u001b[0m\u001b[1;33m.\u001b[0m\u001b[0mrllib\u001b[0m\u001b[1;33m.\u001b[0m\u001b[0mpolicy\u001b[0m\u001b[1;33m.\u001b[0m\u001b[0mpolicy\u001b[0m \u001b[1;32mimport\u001b[0m \u001b[0mPolicy\u001b[0m\u001b[1;33m\u001b[0m\u001b[1;33m\u001b[0m\u001b[0m\n\u001b[0m\u001b[0;32m      2\u001b[0m \u001b[1;32mfrom\u001b[0m \u001b[0mray\u001b[0m\u001b[1;33m.\u001b[0m\u001b[0mrllib\u001b[0m\u001b[1;33m.\u001b[0m\u001b[0mpolicy\u001b[0m\u001b[1;33m.\u001b[0m\u001b[0mtorch_policy\u001b[0m \u001b[1;32mimport\u001b[0m \u001b[0mTorchPolicy\u001b[0m\u001b[1;33m\u001b[0m\u001b[1;33m\u001b[0m\u001b[0m\n\u001b[0;32m      3\u001b[0m \u001b[1;32mfrom\u001b[0m \u001b[0mray\u001b[0m\u001b[1;33m.\u001b[0m\u001b[0mrllib\u001b[0m\u001b[1;33m.\u001b[0m\u001b[0mpolicy\u001b[0m\u001b[1;33m.\u001b[0m\u001b[0mtf_policy\u001b[0m \u001b[1;32mimport\u001b[0m \u001b[0mTFPolicy\u001b[0m\u001b[1;33m\u001b[0m\u001b[1;33m\u001b[0m\u001b[0m\n\u001b[0;32m      4\u001b[0m \u001b[1;32mfrom\u001b[0m \u001b[0mray\u001b[0m\u001b[1;33m.\u001b[0m\u001b[0mrllib\u001b[0m\u001b[1;33m.\u001b[0m\u001b[0mpolicy\u001b[0m\u001b[1;33m.\u001b[0m\u001b[0mtorch_policy_template\u001b[0m \u001b[1;32mimport\u001b[0m \u001b[0mbuild_torch_policy\u001b[0m\u001b[1;33m\u001b[0m\u001b[1;33m\u001b[0m\u001b[0m\n\u001b[0;32m      5\u001b[0m \u001b[1;32mfrom\u001b[0m \u001b[0mray\u001b[0m\u001b[1;33m.\u001b[0m\u001b[0mrllib\u001b[0m\u001b[1;33m.\u001b[0m\u001b[0mpolicy\u001b[0m\u001b[1;33m.\u001b[0m\u001b[0mtf_policy_template\u001b[0m \u001b[1;32mimport\u001b[0m \u001b[0mbuild_tf_policy\u001b[0m\u001b[1;33m\u001b[0m\u001b[1;33m\u001b[0m\u001b[0m\n",
      "\u001b[1;32mc:\\users\\_vinc\\appdata\\local\\programs\\python\\python37\\lib\\site-packages\\ray\\rllib\\policy\\policy.py\u001b[0m in \u001b[0;36m<module>\u001b[1;34m\u001b[0m\n\u001b[0;32m      2\u001b[0m \u001b[1;32mimport\u001b[0m \u001b[0mgym\u001b[0m\u001b[1;33m\u001b[0m\u001b[1;33m\u001b[0m\u001b[0m\n\u001b[0;32m      3\u001b[0m \u001b[1;32mimport\u001b[0m \u001b[0mnumpy\u001b[0m \u001b[1;32mas\u001b[0m \u001b[0mnp\u001b[0m\u001b[1;33m\u001b[0m\u001b[1;33m\u001b[0m\u001b[0m\n\u001b[1;32m----> 4\u001b[1;33m \u001b[1;32mimport\u001b[0m \u001b[0mtree\u001b[0m\u001b[1;33m\u001b[0m\u001b[1;33m\u001b[0m\u001b[0m\n\u001b[0m\u001b[0;32m      5\u001b[0m \u001b[1;32mfrom\u001b[0m \u001b[0mtyping\u001b[0m \u001b[1;32mimport\u001b[0m \u001b[0mDict\u001b[0m\u001b[1;33m,\u001b[0m \u001b[0mList\u001b[0m\u001b[1;33m,\u001b[0m \u001b[0mOptional\u001b[0m\u001b[1;33m\u001b[0m\u001b[1;33m\u001b[0m\u001b[0m\n\u001b[0;32m      6\u001b[0m \u001b[1;33m\u001b[0m\u001b[0m\n",
      "\u001b[1;31mModuleNotFoundError\u001b[0m: No module named 'tree'"
     ]
    },
    {
     "name": "stderr",
     "output_type": "stream",
     "text": [
      "\u001b[2m\u001b[36m(pid=None)\u001b[0m F1001 11:35:53.758596 19392  3088 redis_client.cc:74]  Check failed: num_attempts < RayConfig::instance().redis_db_connect_retries() Expected 1 Redis shard addresses, found 0\n",
      "\u001b[2m\u001b[36m(pid=None)\u001b[0m *** Check failure stack trace: ***\n",
      "\u001b[2m\u001b[36m(pid=None)\u001b[0m     @   00007FF76569729B  public: void __cdecl google::LogMessage::Flush(void) __ptr64\n",
      "\u001b[2m\u001b[36m(pid=None)\u001b[0m     @   00007FF7656960F2  public: __cdecl google::LogMessage::~LogMessage(void) __ptr64\n",
      "\u001b[2m\u001b[36m(pid=None)\u001b[0m     @   00007FF76565CB28  public: virtual __cdecl google::NullStreamFatal::~NullStreamFatal(void) __ptr64\n",
      "\u001b[2m\u001b[36m(pid=None)\u001b[0m     @   00007FF76553789E  public: class google::LogMessage::LogStream * __ptr64 __cdecl google::LogMessage::LogStream::self(void)const __ptr64\n",
      "\u001b[2m\u001b[36m(pid=None)\u001b[0m     @   00007FF765536A47  public: class google::LogMessage::LogStream * __ptr64 __cdecl google::LogMessage::LogStream::self(void)const __ptr64\n",
      "\u001b[2m\u001b[36m(pid=None)\u001b[0m     @   00007FF765536494  public: class google::LogMessage::LogStream * __ptr64 __cdecl google::LogMessage::LogStream::self(void)const __ptr64\n",
      "\u001b[2m\u001b[36m(pid=None)\u001b[0m     @   00007FF76552E33C  public: class google::LogMessage::LogStream * __ptr64 __cdecl google::LogMessage::LogStream::self(void)const __ptr64\n",
      "\u001b[2m\u001b[36m(pid=None)\u001b[0m     @   00007FF7654E4731  public: class google::LogMessage::LogStream * __ptr64 __cdecl google::LogMessage::LogStream::self(void)const __ptr64\n",
      "\u001b[2m\u001b[36m(pid=None)\u001b[0m     @   00007FF7653DD6D7  public: class google::NullStream & __ptr64 __cdecl google::NullStream::stream(void) __ptr64\n",
      "\u001b[2m\u001b[36m(pid=None)\u001b[0m     @   00007FF765933BD0  bool __cdecl google::Demangle(char const * __ptr64,char * __ptr64,int)\n",
      "\u001b[2m\u001b[36m(pid=None)\u001b[0m     @   00007FFAB4347BD4  BaseThreadInitThunk\n",
      "\u001b[2m\u001b[36m(pid=None)\u001b[0m     @   00007FFAB614CE51  RtlUserThreadStart\n",
      "\u001b[2m\u001b[36m(pid=None)\u001b[0m F1001 11:36:31.399343  1768 13292 redis_client.cc:74]  Check failed: num_attempts < RayConfig::instance().redis_db_connect_retries() Expected 1 Redis shard addresses, found 28429462282043508\n",
      "\u001b[2m\u001b[36m(pid=None)\u001b[0m *** Check failure stack trace: ***\n",
      "\u001b[2m\u001b[36m(pid=None)\u001b[0m     @   00007FF76569729B  public: void __cdecl google::LogMessage::Flush(void) __ptr64\n",
      "\u001b[2m\u001b[36m(pid=None)\u001b[0m     @   00007FF7656960F2  public: __cdecl google::LogMessage::~LogMessage(void) __ptr64\n",
      "\u001b[2m\u001b[36m(pid=None)\u001b[0m     @   00007FF76565CB28  public: virtual __cdecl google::NullStreamFatal::~NullStreamFatal(void) __ptr64\n",
      "\u001b[2m\u001b[36m(pid=None)\u001b[0m     @   00007FF76553789E  public: class google::LogMessage::LogStream * __ptr64 __cdecl google::LogMessage::LogStream::self(void)const __ptr64\n",
      "\u001b[2m\u001b[36m(pid=None)\u001b[0m     @   00007FF765536A47  public: class google::LogMessage::LogStream * __ptr64 __cdecl google::LogMessage::LogStream::self(void)const __ptr64\n",
      "\u001b[2m\u001b[36m(pid=None)\u001b[0m     @   00007FF765536494  public: class google::LogMessage::LogStream * __ptr64 __cdecl google::LogMessage::LogStream::self(void)const __ptr64\n",
      "\u001b[2m\u001b[36m(pid=None)\u001b[0m     @   00007FF76552E33C  public: class google::LogMessage::LogStream * __ptr64 __cdecl google::LogMessage::LogStream::self(void)const __ptr64\n",
      "\u001b[2m\u001b[36m(pid=None)\u001b[0m     @   00007FF7654E4731  public: class google::LogMessage::LogStream * __ptr64 __cdecl google::LogMessage::LogStream::self(void)const __ptr64\n",
      "\u001b[2m\u001b[36m(pid=None)\u001b[0m     @   00007FF7653DD6D7  public: class google::NullStream & __ptr64 __cdecl google::NullStream::stream(void) __ptr64\n",
      "\u001b[2m\u001b[36m(pid=None)\u001b[0m     @   00007FF765933BD0  bool __cdecl google::Demangle(char const * __ptr64,char * __ptr64,int)\n",
      "\u001b[2m\u001b[36m(pid=None)\u001b[0m     @   00007FFAB4347BD4  BaseThreadInitThunk\n",
      "\u001b[2m\u001b[36m(pid=None)\u001b[0m     @   00007FFAB614CE51  RtlUserThreadStart\n"
     ]
    }
   ],
   "source": [
    "ray.init(ignore_reinit_error=True)\n",
    "config = {\n",
    "    'env': 'CartPole-v0'\n",
    "}\n",
    "stop = {\n",
    "    'timesteps_total': 10000\n",
    "}\n",
    "results = tune.run(\n",
    "    'PPO', # Specify the algorithm to train\n",
    "    config=config,\n",
    "    stop=stop\n",
    ")"
   ]
  },
  {
   "cell_type": "code",
   "execution_count": null,
   "metadata": {},
   "outputs": [],
   "source": []
  }
 ],
 "metadata": {
  "kernelspec": {
   "display_name": "Python 3",
   "language": "python",
   "name": "python3"
  },
  "language_info": {
   "codemirror_mode": {
    "name": "ipython",
    "version": 3
   },
   "file_extension": ".py",
   "mimetype": "text/x-python",
   "name": "python",
   "nbconvert_exporter": "python",
   "pygments_lexer": "ipython3",
   "version": "3.7.5"
  }
 },
 "nbformat": 4,
 "nbformat_minor": 2
}
