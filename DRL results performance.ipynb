{
 "cells": [
  {
   "cell_type": "code",
   "execution_count": 14,
   "metadata": {},
   "outputs": [],
   "source": [
    "import rl.environments\n",
    "from os.path import join\n",
    "from stable_baselines import PPO2\n",
    "from stable_baselines.common.vec_env import DummyVecEnv\n",
    "import yaml, pathlib\n",
    "import numpy as np\n",
    "import pandas as pd\n",
    "import matplotlib.pyplot as plt\n",
    "\n",
    "path = pathlib.Path().absolute()\n",
    "\n",
    "to_combine=[\n",
    "    ['AbstractConveyor1','20201216_1300'],\n",
    "    ['AbstractConveyor1', '20201214_1000'],\n",
    "    ['AbstractConveyor1','20201216_1330'],\n",
    "    ['AbstractConveyor1','20201216_2200'],\n",
    "    ['AbstractConveyor1','20201216_2230'],\n",
    "    ['AbstractConveyor1','20201216_2300']\n",
    "    \n",
    "]"
   ]
  },
  {
   "cell_type": "code",
   "execution_count": 15,
   "metadata": {},
   "outputs": [
    {
     "name": "stderr",
     "output_type": "stream",
     "text": [
      "c:\\users\\_vinc\\appdata\\local\\programs\\python\\python37\\lib\\site-packages\\ipykernel_launcher.py:11: YAMLLoadWarning: calling yaml.load() without Loader=... is deprecated, as the default Loader is unsafe. Please read https://msg.pyyaml.org/load for full details.\n",
      "  # This is added back by InteractiveShellApp.init_path()\n"
     ]
    },
    {
     "name": "stdout",
     "output_type": "stream",
     "text": [
      "\n",
      "Loaded config file from: D:\\Drive\\git\\RL\\rl\\trained_models\\AbstractConveyor1\\20201216_1300\\config.yml\n",
      "\n",
      "Custom MLP architecture [64, 64, {'pi': [], 'vf': []}]\n",
      "Custom MLP architecture [64, 64, {'pi': [], 'vf': []}]\n",
      "Ep:   100, steps: 861, R: 0.00000\r"
     ]
    },
    {
     "name": "stderr",
     "output_type": "stream",
     "text": [
      "c:\\users\\_vinc\\appdata\\local\\programs\\python\\python37\\lib\\site-packages\\ipykernel_launcher.py:11: YAMLLoadWarning: calling yaml.load() without Loader=... is deprecated, as the default Loader is unsafe. Please read https://msg.pyyaml.org/load for full details.\n",
      "  # This is added back by InteractiveShellApp.init_path()\n"
     ]
    },
    {
     "name": "stdout",
     "output_type": "stream",
     "text": [
      "\n",
      "Loaded config file from: D:\\Drive\\git\\RL\\rl\\trained_models\\AbstractConveyor1\\20201214_1000\\config.yml\n",
      "\n",
      "Custom MLP architecture [64, 64, {'pi': [], 'vf': []}]\n",
      "Custom MLP architecture [64, 64, {'pi': [], 'vf': []}]\n",
      "Ep:   100, steps: 1415, R: 10.0000\r"
     ]
    },
    {
     "name": "stderr",
     "output_type": "stream",
     "text": [
      "c:\\users\\_vinc\\appdata\\local\\programs\\python\\python37\\lib\\site-packages\\ipykernel_launcher.py:11: YAMLLoadWarning: calling yaml.load() without Loader=... is deprecated, as the default Loader is unsafe. Please read https://msg.pyyaml.org/load for full details.\n",
      "  # This is added back by InteractiveShellApp.init_path()\n"
     ]
    },
    {
     "name": "stdout",
     "output_type": "stream",
     "text": [
      "\n",
      "Loaded config file from: D:\\Drive\\git\\RL\\rl\\trained_models\\AbstractConveyor1\\20201216_1330\\config.yml\n",
      "\n",
      "Custom MLP architecture [64, 64, {'pi': [], 'vf': []}]\n",
      "Custom MLP architecture [64, 64, {'pi': [], 'vf': []}]\n",
      "Ep:   100, steps: 2539, R: -15.000\r"
     ]
    },
    {
     "name": "stderr",
     "output_type": "stream",
     "text": [
      "c:\\users\\_vinc\\appdata\\local\\programs\\python\\python37\\lib\\site-packages\\ipykernel_launcher.py:11: YAMLLoadWarning: calling yaml.load() without Loader=... is deprecated, as the default Loader is unsafe. Please read https://msg.pyyaml.org/load for full details.\n",
      "  # This is added back by InteractiveShellApp.init_path()\n"
     ]
    },
    {
     "name": "stdout",
     "output_type": "stream",
     "text": [
      "\n",
      "Loaded config file from: D:\\Drive\\git\\RL\\rl\\trained_models\\AbstractConveyor1\\20201216_2200\\config.yml\n",
      "\n",
      "Custom MLP architecture [64, 64, {'pi': [], 'vf': []}]\n",
      "Custom MLP architecture [64, 64, {'pi': [], 'vf': []}]\n",
      "Ep:   100, steps: 2825, R: 0.00000\r"
     ]
    },
    {
     "name": "stderr",
     "output_type": "stream",
     "text": [
      "c:\\users\\_vinc\\appdata\\local\\programs\\python\\python37\\lib\\site-packages\\ipykernel_launcher.py:11: YAMLLoadWarning: calling yaml.load() without Loader=... is deprecated, as the default Loader is unsafe. Please read https://msg.pyyaml.org/load for full details.\n",
      "  # This is added back by InteractiveShellApp.init_path()\n"
     ]
    },
    {
     "name": "stdout",
     "output_type": "stream",
     "text": [
      "\n",
      "Loaded config file from: D:\\Drive\\git\\RL\\rl\\trained_models\\AbstractConveyor1\\20201216_2230\\config.yml\n",
      "\n",
      "Custom MLP architecture [64, 64, {'pi': [], 'vf': []}]\n",
      "Custom MLP architecture [64, 64, {'pi': [], 'vf': []}]\n",
      "Ep:   100, steps: 3251, R: 0.00000\r"
     ]
    },
    {
     "name": "stderr",
     "output_type": "stream",
     "text": [
      "c:\\users\\_vinc\\appdata\\local\\programs\\python\\python37\\lib\\site-packages\\ipykernel_launcher.py:11: YAMLLoadWarning: calling yaml.load() without Loader=... is deprecated, as the default Loader is unsafe. Please read https://msg.pyyaml.org/load for full details.\n",
      "  # This is added back by InteractiveShellApp.init_path()\n"
     ]
    },
    {
     "name": "stdout",
     "output_type": "stream",
     "text": [
      "\n",
      "Loaded config file from: D:\\Drive\\git\\RL\\rl\\trained_models\\AbstractConveyor1\\20201216_2300\\config.yml\n",
      "\n",
      "Custom MLP architecture [64, 64, {'pi': [], 'vf': []}]\n",
      "Custom MLP architecture [64, 64, {'pi': [], 'vf': []}]\n",
      "Ep:   100, steps: 8867, R: -81.000\r"
     ]
    }
   ],
   "source": [
    "env1, subdir = to_combine[0]\n",
    "episodes = 100\n",
    "combinations = ['1x2', '2x2', '2x3', '3x3', '4x3', '5x3']\n",
    "\n",
    "results = {}\n",
    "for idx, combination in enumerate(to_combine):\n",
    "    env1, subdir = combination\n",
    "    # load config and variables needed\n",
    "    location_path= join(path, 'rl', 'trained_models', env1, subdir)\n",
    "    with open(join(location_path, 'config.yml'), 'r') as c:\n",
    "        config = yaml.load(c)\n",
    "        print('\\nLoaded config file from: {}\\n'.format(join(location_path, 'config.yml')))\n",
    "    model_config = config['models']['PPO2']\n",
    "\n",
    "    #initialize env with the config file\n",
    "    env_obj = getattr(rl.environments, env1)\n",
    "    env = env_obj(config)\n",
    "\n",
    "    # load best model from path\n",
    "    model = PPO2.load(join(location_path, 'model.zip'), env=DummyVecEnv([lambda: env]))\n",
    "\n",
    "\n",
    "    results[combinations[idx]] = {}\n",
    "    results[combinations[idx]]['idle_time'] = 0\n",
    "    results[combinations[idx]]['cycle_count'] = 0\n",
    "    results[combinations[idx]]['steps'] = 0\n",
    "\n",
    "    for episode in range(episodes):\n",
    "        # Run an episode\n",
    "        state = env.reset()\n",
    "        done = False\n",
    "        while not done:\n",
    "            action, _ = model.predict(state, deterministic=False)\n",
    "            state, reward, done, tc = env.step(action)\n",
    "        results[combinations[idx]]['idle_time'] += sum(env.idle_times_operator.values())\n",
    "        results[combinations[idx]]['cycle_count'] += env.cycle_count\n",
    "        results[combinations[idx]]['steps'] += env.steps\n",
    "    results[combinations[idx]]['idle_time'] = results[combinations[idx]]['idle_time'] / episodes\n",
    "    results[combinations[idx]]['cycle_count'] = results[combinations[idx]]['cycle_count'] /episodes\n",
    "    results[combinations[idx]]['steps'] = results[combinations[idx]]['steps'] /episodes"
   ]
  },
  {
   "cell_type": "code",
   "execution_count": 16,
   "metadata": {},
   "outputs": [
    {
     "data": {
      "text/html": [
       "<div>\n",
       "<style scoped>\n",
       "    .dataframe tbody tr th:only-of-type {\n",
       "        vertical-align: middle;\n",
       "    }\n",
       "\n",
       "    .dataframe tbody tr th {\n",
       "        vertical-align: top;\n",
       "    }\n",
       "\n",
       "    .dataframe thead th {\n",
       "        text-align: right;\n",
       "    }\n",
       "</style>\n",
       "<table border=\"1\" class=\"dataframe\">\n",
       "  <thead>\n",
       "    <tr style=\"text-align: right;\">\n",
       "      <th></th>\n",
       "      <th>idle_time</th>\n",
       "      <th>cycle_count</th>\n",
       "      <th>steps</th>\n",
       "    </tr>\n",
       "  </thead>\n",
       "  <tbody>\n",
       "    <tr>\n",
       "      <td>1x2</td>\n",
       "      <td>0.54</td>\n",
       "      <td>52.91</td>\n",
       "      <td>946.17</td>\n",
       "    </tr>\n",
       "    <tr>\n",
       "      <td>2x2</td>\n",
       "      <td>0.63</td>\n",
       "      <td>74.62</td>\n",
       "      <td>1443.61</td>\n",
       "    </tr>\n",
       "    <tr>\n",
       "      <td>2x3</td>\n",
       "      <td>44.23</td>\n",
       "      <td>204.09</td>\n",
       "      <td>2517.95</td>\n",
       "    </tr>\n",
       "    <tr>\n",
       "      <td>3x3</td>\n",
       "      <td>91.72</td>\n",
       "      <td>539.53</td>\n",
       "      <td>2791.97</td>\n",
       "    </tr>\n",
       "    <tr>\n",
       "      <td>4x3</td>\n",
       "      <td>685.78</td>\n",
       "      <td>1007.81</td>\n",
       "      <td>3063.20</td>\n",
       "    </tr>\n",
       "    <tr>\n",
       "      <td>5x3</td>\n",
       "      <td>41872.27</td>\n",
       "      <td>3911.78</td>\n",
       "      <td>8826.18</td>\n",
       "    </tr>\n",
       "  </tbody>\n",
       "</table>\n",
       "</div>"
      ],
      "text/plain": [
       "     idle_time  cycle_count    steps\n",
       "1x2       0.54        52.91   946.17\n",
       "2x2       0.63        74.62  1443.61\n",
       "2x3      44.23       204.09  2517.95\n",
       "3x3      91.72       539.53  2791.97\n",
       "4x3     685.78      1007.81  3063.20\n",
       "5x3   41872.27      3911.78  8826.18"
      ]
     },
     "execution_count": 16,
     "metadata": {},
     "output_type": "execute_result"
    }
   ],
   "source": [
    "resultcsv = pd.DataFrame.from_dict(results).T\n",
    "resultcsv.to_csv('results_DRL.csv')\n",
    "resultcsv"
   ]
  },
  {
   "cell_type": "markdown",
   "metadata": {},
   "source": [
    "# queue occupation"
   ]
  },
  {
   "cell_type": "code",
   "execution_count": 17,
   "metadata": {
    "scrolled": false
   },
   "outputs": [
    {
     "name": "stderr",
     "output_type": "stream",
     "text": [
      "c:\\users\\_vinc\\appdata\\local\\programs\\python\\python37\\lib\\site-packages\\ipykernel_launcher.py:11: YAMLLoadWarning: calling yaml.load() without Loader=... is deprecated, as the default Loader is unsafe. Please read https://msg.pyyaml.org/load for full details.\n",
      "  # This is added back by InteractiveShellApp.init_path()\n"
     ]
    },
    {
     "name": "stdout",
     "output_type": "stream",
     "text": [
      "\n",
      "Loaded config file from: D:\\Drive\\git\\RL\\rl\\trained_models\\AbstractConveyor1\\20201216_1300\\config.yml\n",
      "\n",
      "Custom MLP architecture [64, 64, {'pi': [], 'vf': []}]\n",
      "Custom MLP architecture [64, 64, {'pi': [], 'vf': []}]\n",
      "mean:  0.6345748962784072 std:  0.2112253295086236\n"
     ]
    },
    {
     "data": {
      "image/png": "[encoded data removed]",
      "text/plain": [
       "<Figure size 432x288 with 1 Axes>"
      ]
     },
     "metadata": {
      "needs_background": "light"
     },
     "output_type": "display_data"
    },
    {
     "name": "stderr",
     "output_type": "stream",
     "text": [
      "c:\\users\\_vinc\\appdata\\local\\programs\\python\\python37\\lib\\site-packages\\ipykernel_launcher.py:11: YAMLLoadWarning: calling yaml.load() without Loader=... is deprecated, as the default Loader is unsafe. Please read https://msg.pyyaml.org/load for full details.\n",
      "  # This is added back by InteractiveShellApp.init_path()\n"
     ]
    },
    {
     "name": "stdout",
     "output_type": "stream",
     "text": [
      "\n",
      "Loaded config file from: D:\\Drive\\git\\RL\\rl\\trained_models\\AbstractConveyor1\\20201214_1000\\config.yml\n",
      "\n",
      "Custom MLP architecture [64, 64, {'pi': [], 'vf': []}]\n",
      "Custom MLP architecture [64, 64, {'pi': [], 'vf': []}]\n",
      "mean:  0.6333501361024296 std:  0.19274038256744042\n",
      "mean:  0.51324730315556 std:  0.1894728141228255\n"
     ]
    },
    {
     "data": {
      "image/png": "[encoded data removed]",
      "text/plain": [
       "<Figure size 432x288 with 1 Axes>"
      ]
     },
     "metadata": {
      "needs_background": "light"
     },
     "output_type": "display_data"
    },
    {
     "name": "stderr",
     "output_type": "stream",
     "text": [
      "c:\\users\\_vinc\\appdata\\local\\programs\\python\\python37\\lib\\site-packages\\ipykernel_launcher.py:11: YAMLLoadWarning: calling yaml.load() without Loader=... is deprecated, as the default Loader is unsafe. Please read https://msg.pyyaml.org/load for full details.\n",
      "  # This is added back by InteractiveShellApp.init_path()\n"
     ]
    },
    {
     "name": "stdout",
     "output_type": "stream",
     "text": [
      "\n",
      "Loaded config file from: D:\\Drive\\git\\RL\\rl\\trained_models\\AbstractConveyor1\\20201216_1330\\config.yml\n",
      "\n",
      "Custom MLP architecture [64, 64, {'pi': [], 'vf': []}]\n",
      "Custom MLP architecture [64, 64, {'pi': [], 'vf': []}]\n",
      "mean:  0.5592840149541181 std:  0.2190754419563115\n",
      "mean:  0.45479211510139345 std:  0.23785481033022676\n"
     ]
    },
    {
     "data": {
      "image/png": "[encoded data removed]",
      "text/plain": [
       "<Figure size 432x288 with 1 Axes>"
      ]
     },
     "metadata": {
      "needs_background": "light"
     },
     "output_type": "display_data"
    },
    {
     "name": "stderr",
     "output_type": "stream",
     "text": [
      "c:\\users\\_vinc\\appdata\\local\\programs\\python\\python37\\lib\\site-packages\\ipykernel_launcher.py:11: YAMLLoadWarning: calling yaml.load() without Loader=... is deprecated, as the default Loader is unsafe. Please read https://msg.pyyaml.org/load for full details.\n",
      "  # This is added back by InteractiveShellApp.init_path()\n"
     ]
    },
    {
     "name": "stdout",
     "output_type": "stream",
     "text": [
      "\n",
      "Loaded config file from: D:\\Drive\\git\\RL\\rl\\trained_models\\AbstractConveyor1\\20201216_2200\\config.yml\n",
      "\n",
      "Custom MLP architecture [64, 64, {'pi': [], 'vf': []}]\n",
      "Custom MLP architecture [64, 64, {'pi': [], 'vf': []}]\n",
      "mean:  0.46835777171634563 std:  0.24817007986492257\n",
      "mean:  0.4391662827951368 std:  0.22986047349926408\n",
      "mean:  0.47976005010170436 std:  0.23923466241263766\n"
     ]
    },
    {
     "data": {
      "image/png": "[encoded data removed]",
      "text/plain": [
       "<Figure size 432x288 with 1 Axes>"
      ]
     },
     "metadata": {
      "needs_background": "light"
     },
     "output_type": "display_data"
    },
    {
     "name": "stderr",
     "output_type": "stream",
     "text": [
      "c:\\users\\_vinc\\appdata\\local\\programs\\python\\python37\\lib\\site-packages\\ipykernel_launcher.py:11: YAMLLoadWarning: calling yaml.load() without Loader=... is deprecated, as the default Loader is unsafe. Please read https://msg.pyyaml.org/load for full details.\n",
      "  # This is added back by InteractiveShellApp.init_path()\n"
     ]
    },
    {
     "name": "stdout",
     "output_type": "stream",
     "text": [
      "\n",
      "Loaded config file from: D:\\Drive\\git\\RL\\rl\\trained_models\\AbstractConveyor1\\20201216_2230\\config.yml\n",
      "\n",
      "Custom MLP architecture [64, 64, {'pi': [], 'vf': []}]\n",
      "Custom MLP architecture [64, 64, {'pi': [], 'vf': []}]\n",
      "mean:  0.6197454722061118 std:  0.2772998924311761\n",
      "mean:  0.5945614605877998 std:  0.2772249323614853\n",
      "mean:  0.33135765445895154 std:  0.2809991429716773\n",
      "mean:  0.5430664988046907 std:  0.29581391211708336\n"
     ]
    },
    {
     "data": {
      "image/png": "[encoded data removed]",
      "text/plain": [
       "<Figure size 432x288 with 1 Axes>"
      ]
     },
     "metadata": {
      "needs_background": "light"
     },
     "output_type": "display_data"
    },
    {
     "name": "stderr",
     "output_type": "stream",
     "text": [
      "c:\\users\\_vinc\\appdata\\local\\programs\\python\\python37\\lib\\site-packages\\ipykernel_launcher.py:11: YAMLLoadWarning: calling yaml.load() without Loader=... is deprecated, as the default Loader is unsafe. Please read https://msg.pyyaml.org/load for full details.\n",
      "  # This is added back by InteractiveShellApp.init_path()\n"
     ]
    },
    {
     "name": "stdout",
     "output_type": "stream",
     "text": [
      "\n",
      "Loaded config file from: D:\\Drive\\git\\RL\\rl\\trained_models\\AbstractConveyor1\\20201216_2300\\config.yml\n",
      "\n",
      "Custom MLP architecture [64, 64, {'pi': [], 'vf': []}]\n",
      "Custom MLP architecture [64, 64, {'pi': [], 'vf': []}]\n",
      "mean:  0.004795811317987161 std:  0.04416820064904598\n",
      "mean:  0.005701403348777291 std:  0.04876192657714729\n",
      "mean:  0.01787428214293686 std:  0.09376742930313564\n",
      "mean:  0.005422391719572585 std:  0.04459643419737339\n",
      "mean:  0.005247012981215342 std:  0.0457117500026952\n"
     ]
    },
    {
     "data": {
      "image/png": "[encoded data removed]",
      "text/plain": [
       "<Figure size 432x288 with 1 Axes>"
      ]
     },
     "metadata": {
      "needs_background": "light"
     },
     "output_type": "display_data"
    }
   ],
   "source": [
    "env1, subdir = to_combine[0]\n",
    "episodes = 10\n",
    "combinations = ['1x2', '2x2', '2x3', '3x3', '4x3', '5x3']\n",
    "\n",
    "results = {}\n",
    "for idx, combination in enumerate(to_combine):\n",
    "    env1, subdir = combination\n",
    "    # load config and variables needed\n",
    "    location_path= join(path, 'rl', 'trained_models', env1, subdir)\n",
    "    with open(join(location_path, 'config.yml'), 'r') as c:\n",
    "        config = yaml.load(c)\n",
    "        print('\\nLoaded config file from: {}\\n'.format(join(location_path, 'config.yml')))\n",
    "    model_config = config['models']['PPO2']\n",
    "\n",
    "    #initialize env with the config file\n",
    "    env_obj = getattr(rl.environments, env1)\n",
    "    env = env_obj(config)\n",
    "\n",
    "    # load best model from path\n",
    "    model = PPO2.load(join(location_path, 'model.zip'), env=DummyVecEnv([lambda: env]))\n",
    "\n",
    "\n",
    "\n",
    "\n",
    "    log_data=[]\n",
    "    for episode in range(episodes):\n",
    "        state = env.reset()\n",
    "        done = False\n",
    "        while not done:\n",
    "            action, _ = model.predict(state, deterministic=False)\n",
    "            state, reward, done, tc = env.step(action)\n",
    "            log_data.append(env.len_queues)\n",
    "    log_dataframe = pd.DataFrame(np.array(log_data)).reset_index()\n",
    "    for i in range(env.amount_of_gtps):\n",
    "        print('mean: ', log_dataframe[i].mean(), 'std: ', log_dataframe[i].std())\n",
    "\n",
    "    labels = ['Queue 1', 'Queue 2', 'Queue 3', 'Queue 4', 'Queue 5']\n",
    "    plt.boxplot([log_dataframe[i] for i in range(env.amount_of_gtps)], notch=True, labels=[label for label in labels][:env.amount_of_gtps], showfliers=False)\n",
    "    plt.ylim(0,1)\n",
    "    plt.ylabel('Queue occupation %')\n",
    "    plt.xlabel('Queue number')\n",
    "    plt.title('Occupation of queues for a {}x{} design'.format(env.amount_of_gtps, env.amount_of_outputs))\n",
    "    plt.savefig('figures/box_rl_queues_{}x{}.png'.format(env.amount_of_gtps, env.amount_of_outputs))\n",
    "    plt.show()\n",
    "  "
   ]
  },
  {
   "cell_type": "code",
   "execution_count": 18,
   "metadata": {},
   "outputs": [
    {
     "data": {
      "text/html": [
       "<div>\n",
       "<style scoped>\n",
       "    .dataframe tbody tr th:only-of-type {\n",
       "        vertical-align: middle;\n",
       "    }\n",
       "\n",
       "    .dataframe tbody tr th {\n",
       "        vertical-align: top;\n",
       "    }\n",
       "\n",
       "    .dataframe thead th {\n",
       "        text-align: right;\n",
       "    }\n",
       "</style>\n",
       "<table border=\"1\" class=\"dataframe\">\n",
       "  <thead>\n",
       "    <tr style=\"text-align: right;\">\n",
       "      <th></th>\n",
       "      <th>index</th>\n",
       "      <th>0</th>\n",
       "      <th>1</th>\n",
       "      <th>2</th>\n",
       "      <th>3</th>\n",
       "      <th>4</th>\n",
       "    </tr>\n",
       "  </thead>\n",
       "  <tbody>\n",
       "    <tr>\n",
       "      <td>0</td>\n",
       "      <td>0</td>\n",
       "      <td>0.571429</td>\n",
       "      <td>0.285714</td>\n",
       "      <td>0.285714</td>\n",
       "      <td>0.428571</td>\n",
       "      <td>0.285714</td>\n",
       "    </tr>\n",
       "    <tr>\n",
       "      <td>1</td>\n",
       "      <td>1</td>\n",
       "      <td>0.571429</td>\n",
       "      <td>0.285714</td>\n",
       "      <td>0.285714</td>\n",
       "      <td>0.428571</td>\n",
       "      <td>0.285714</td>\n",
       "    </tr>\n",
       "    <tr>\n",
       "      <td>2</td>\n",
       "      <td>2</td>\n",
       "      <td>0.571429</td>\n",
       "      <td>0.428571</td>\n",
       "      <td>0.285714</td>\n",
       "      <td>0.428571</td>\n",
       "      <td>0.285714</td>\n",
       "    </tr>\n",
       "    <tr>\n",
       "      <td>3</td>\n",
       "      <td>3</td>\n",
       "      <td>0.571429</td>\n",
       "      <td>0.428571</td>\n",
       "      <td>0.428571</td>\n",
       "      <td>0.428571</td>\n",
       "      <td>0.285714</td>\n",
       "    </tr>\n",
       "    <tr>\n",
       "      <td>4</td>\n",
       "      <td>4</td>\n",
       "      <td>0.571429</td>\n",
       "      <td>0.428571</td>\n",
       "      <td>0.428571</td>\n",
       "      <td>0.428571</td>\n",
       "      <td>0.285714</td>\n",
       "    </tr>\n",
       "    <tr>\n",
       "      <td>...</td>\n",
       "      <td>...</td>\n",
       "      <td>...</td>\n",
       "      <td>...</td>\n",
       "      <td>...</td>\n",
       "      <td>...</td>\n",
       "      <td>...</td>\n",
       "    </tr>\n",
       "    <tr>\n",
       "      <td>89597</td>\n",
       "      <td>89597</td>\n",
       "      <td>0.000000</td>\n",
       "      <td>0.000000</td>\n",
       "      <td>0.000000</td>\n",
       "      <td>0.000000</td>\n",
       "      <td>0.000000</td>\n",
       "    </tr>\n",
       "    <tr>\n",
       "      <td>89598</td>\n",
       "      <td>89598</td>\n",
       "      <td>0.000000</td>\n",
       "      <td>0.000000</td>\n",
       "      <td>0.000000</td>\n",
       "      <td>0.000000</td>\n",
       "      <td>0.000000</td>\n",
       "    </tr>\n",
       "    <tr>\n",
       "      <td>89599</td>\n",
       "      <td>89599</td>\n",
       "      <td>0.000000</td>\n",
       "      <td>0.000000</td>\n",
       "      <td>0.000000</td>\n",
       "      <td>0.000000</td>\n",
       "      <td>0.000000</td>\n",
       "    </tr>\n",
       "    <tr>\n",
       "      <td>89600</td>\n",
       "      <td>89600</td>\n",
       "      <td>0.000000</td>\n",
       "      <td>0.000000</td>\n",
       "      <td>0.000000</td>\n",
       "      <td>0.000000</td>\n",
       "      <td>0.000000</td>\n",
       "    </tr>\n",
       "    <tr>\n",
       "      <td>89601</td>\n",
       "      <td>89601</td>\n",
       "      <td>0.000000</td>\n",
       "      <td>0.000000</td>\n",
       "      <td>0.000000</td>\n",
       "      <td>0.000000</td>\n",
       "      <td>0.000000</td>\n",
       "    </tr>\n",
       "  </tbody>\n",
       "</table>\n",
       "<p>89602 rows × 6 columns</p>\n",
       "</div>"
      ],
      "text/plain": [
       "       index         0         1         2         3         4\n",
       "0          0  0.571429  0.285714  0.285714  0.428571  0.285714\n",
       "1          1  0.571429  0.285714  0.285714  0.428571  0.285714\n",
       "2          2  0.571429  0.428571  0.285714  0.428571  0.285714\n",
       "3          3  0.571429  0.428571  0.428571  0.428571  0.285714\n",
       "4          4  0.571429  0.428571  0.428571  0.428571  0.285714\n",
       "...      ...       ...       ...       ...       ...       ...\n",
       "89597  89597  0.000000  0.000000  0.000000  0.000000  0.000000\n",
       "89598  89598  0.000000  0.000000  0.000000  0.000000  0.000000\n",
       "89599  89599  0.000000  0.000000  0.000000  0.000000  0.000000\n",
       "89600  89600  0.000000  0.000000  0.000000  0.000000  0.000000\n",
       "89601  89601  0.000000  0.000000  0.000000  0.000000  0.000000\n",
       "\n",
       "[89602 rows x 6 columns]"
      ]
     },
     "execution_count": 18,
     "metadata": {},
     "output_type": "execute_result"
    }
   ],
   "source": [
    "log_dataframe"
   ]
  },
  {
   "cell_type": "code",
   "execution_count": null,
   "metadata": {},
   "outputs": [],
   "source": []
  }
 ],
 "metadata": {
  "kernelspec": {
   "display_name": "th_new-venv",
   "language": "python",
   "name": "th_new-venv"
  },
  "language_info": {
   "codemirror_mode": {
    "name": "ipython",
    "version": 3
   },
   "file_extension": ".py",
   "mimetype": "text/x-python",
   "name": "python",
   "nbconvert_exporter": "python",
   "pygments_lexer": "ipython3",
   "version": "3.7.5"
  }
 },
 "nbformat": 4,
 "nbformat_minor": 4
}
